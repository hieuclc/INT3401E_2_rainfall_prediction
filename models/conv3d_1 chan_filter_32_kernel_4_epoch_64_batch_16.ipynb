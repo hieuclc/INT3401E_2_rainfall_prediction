{
  "cells": [
    {
      "cell_type": "code",
      "execution_count": null,
      "id": "adbaaebc",
      "metadata": {
        "execution": {
          "iopub.execute_input": "2025-04-30T15:34:05.709491Z",
          "iopub.status.busy": "2025-04-30T15:34:05.709214Z",
          "iopub.status.idle": "2025-04-30T15:34:05.713761Z",
          "shell.execute_reply": "2025-04-30T15:34:05.713078Z"
        },
        "id": "adbaaebc",
        "papermill": {
          "duration": 0.012602,
          "end_time": "2025-04-30T15:34:05.715086",
          "exception": false,
          "start_time": "2025-04-30T15:34:05.702484",
          "status": "completed"
        },
        "tags": []
      },
      "outputs": [],
      "source": [
        "num_filters = 32\n",
        "kernel_size = 4\n",
        "epochs = 64\n",
        "batch_size = 16"
      ]
    },
    {
      "cell_type": "code",
      "execution_count": null,
      "id": "757f46c1",
      "metadata": {
        "execution": {
          "iopub.execute_input": "2025-04-30T15:34:05.726646Z",
          "iopub.status.busy": "2025-04-30T15:34:05.726392Z",
          "iopub.status.idle": "2025-04-30T15:34:08.433568Z",
          "shell.execute_reply": "2025-04-30T15:34:08.432638Z"
        },
        "id": "757f46c1",
        "papermill": {
          "duration": 2.714736,
          "end_time": "2025-04-30T15:34:08.435288",
          "exception": false,
          "start_time": "2025-04-30T15:34:05.720552",
          "status": "completed"
        },
        "tags": []
      },
      "outputs": [],
      "source": [
        "from osgeo import gdal\n",
        "import numpy as np\n",
        "import os\n",
        "import pandas as pd\n",
        "import datetime\n",
        "import warnings\n",
        "import glob\n",
        "from tqdm import tqdm\n",
        "import matplotlib.pyplot as plt\n",
        "import seaborn as sns\n",
        "warnings.simplefilter(\"ignore\")"
      ]
    },
    {
      "cell_type": "code",
      "execution_count": null,
      "id": "7aa52bb1",
      "metadata": {
        "execution": {
          "iopub.execute_input": "2025-04-30T15:34:08.446744Z",
          "iopub.status.busy": "2025-04-30T15:34:08.446385Z",
          "iopub.status.idle": "2025-04-30T15:34:09.157978Z",
          "shell.execute_reply": "2025-04-30T15:34:09.157059Z"
        },
        "id": "7aa52bb1",
        "papermill": {
          "duration": 0.719056,
          "end_time": "2025-04-30T15:34:09.159599",
          "exception": false,
          "start_time": "2025-04-30T15:34:08.440543",
          "status": "completed"
        },
        "tags": []
      },
      "outputs": [],
      "source": [
        "# df = pd.read_parquet(\"/kaggle/input/aws-merged-full\")\n",
        "!pip install -q gdown\n",
        "!gdown 115b2vVHryiPFOPYRumGBDIpx5dT_vH7R\n",
        "df = pd.read_parquet(\"/kaggle/working/aws_rainfall_all.parquet\")"
      ]
    },
    {
      "cell_type": "code",
      "execution_count": null,
      "id": "e39667c5",
      "metadata": {
        "execution": {
          "iopub.execute_input": "2025-04-30T15:34:09.170682Z",
          "iopub.status.busy": "2025-04-30T15:34:09.170411Z",
          "iopub.status.idle": "2025-04-30T15:34:09.193879Z",
          "shell.execute_reply": "2025-04-30T15:34:09.192926Z"
        },
        "id": "e39667c5",
        "outputId": "578f1305-e56a-44d0-d287-b2421ba73b4e",
        "papermill": {
          "duration": 0.030537,
          "end_time": "2025-04-30T15:34:09.195363",
          "exception": false,
          "start_time": "2025-04-30T15:34:09.164826",
          "status": "completed"
        },
        "tags": []
      },
      "outputs": [
        {
          "name": "stdout",
          "output_type": "stream",
          "text": [
            "0 87\n",
            "55 167\n"
          ]
        }
      ],
      "source": [
        "col = np.array(df[\"Col\"].unique())\n",
        "row = np.array(df[\"Row\"].unique())\n",
        "print(np.min(row), np.max(row))\n",
        "print(np.min(col), np.max(col))\n"
      ]
    },
    {
      "cell_type": "code",
      "execution_count": null,
      "id": "c07ace2e",
      "metadata": {
        "execution": {
          "iopub.execute_input": "2025-04-30T15:34:09.206386Z",
          "iopub.status.busy": "2025-04-30T15:34:09.206191Z",
          "iopub.status.idle": "2025-04-30T15:34:09.253673Z",
          "shell.execute_reply": "2025-04-30T15:34:09.252927Z"
        },
        "id": "c07ace2e",
        "papermill": {
          "duration": 0.054758,
          "end_time": "2025-04-30T15:34:09.255436",
          "exception": false,
          "start_time": "2025-04-30T15:34:09.200678",
          "status": "completed"
        },
        "tags": []
      },
      "outputs": [],
      "source": [
        "def compact_map_column(df, col_name):\n",
        "    unique_sorted = np.sort(df[col_name].unique())\n",
        "    mapping = {val: idx for idx, val in enumerate(unique_sorted)}\n",
        "    df[col_name + \"_mapped\"] = df[col_name].map(mapping)\n",
        "    return mapping\n",
        "\n",
        "# Apply to both row and col\n",
        "row_map = compact_map_column(df, \"Row\")\n",
        "col_map = compact_map_column(df, \"Col\")\n"
      ]
    },
    {
      "cell_type": "code",
      "execution_count": null,
      "id": "7f7380ff",
      "metadata": {
        "execution": {
          "iopub.execute_input": "2025-04-30T15:34:09.267385Z",
          "iopub.status.busy": "2025-04-30T15:34:09.267132Z",
          "iopub.status.idle": "2025-04-30T15:34:09.299350Z",
          "shell.execute_reply": "2025-04-30T15:34:09.298527Z"
        },
        "id": "7f7380ff",
        "outputId": "79150f82-7209-4310-898e-75ad9233bbab",
        "papermill": {
          "duration": 0.039906,
          "end_time": "2025-04-30T15:34:09.300737",
          "exception": false,
          "start_time": "2025-04-30T15:34:09.260831",
          "status": "completed"
        },
        "tags": []
      },
      "outputs": [
        {
          "data": {
            "text/html": [
              "<div>\n",
              "<style scoped>\n",
              "    .dataframe tbody tr th:only-of-type {\n",
              "        vertical-align: middle;\n",
              "    }\n",
              "\n",
              "    .dataframe tbody tr th {\n",
              "        vertical-align: top;\n",
              "    }\n",
              "\n",
              "    .dataframe thead th {\n",
              "        text-align: right;\n",
              "    }\n",
              "</style>\n",
              "<table border=\"1\" class=\"dataframe\">\n",
              "  <thead>\n",
              "    <tr style=\"text-align: right;\">\n",
              "      <th></th>\n",
              "      <th>Datetime</th>\n",
              "      <th>Row</th>\n",
              "      <th>Col</th>\n",
              "      <th>aws_rainfall</th>\n",
              "      <th>era5_r850</th>\n",
              "      <th>era5_slor</th>\n",
              "      <th>era5_r250</th>\n",
              "      <th>era5_sshf</th>\n",
              "      <th>era5_kx</th>\n",
              "      <th>era5_tcw</th>\n",
              "      <th>...</th>\n",
              "      <th>era5_v250</th>\n",
              "      <th>era5_cape</th>\n",
              "      <th>era5_tclw</th>\n",
              "      <th>era5_isor</th>\n",
              "      <th>era5_ie</th>\n",
              "      <th>era5_r500</th>\n",
              "      <th>era5_cin</th>\n",
              "      <th>era5_u250</th>\n",
              "      <th>Row_mapped</th>\n",
              "      <th>Col_mapped</th>\n",
              "    </tr>\n",
              "  </thead>\n",
              "  <tbody>\n",
              "    <tr>\n",
              "      <th>0</th>\n",
              "      <td>2019-04-01</td>\n",
              "      <td>24</td>\n",
              "      <td>106</td>\n",
              "      <td>0.0</td>\n",
              "      <td>96.768906</td>\n",
              "      <td>0.031116</td>\n",
              "      <td>13.146707</td>\n",
              "      <td>-38970.0</td>\n",
              "      <td>36.147285</td>\n",
              "      <td>44.220032</td>\n",
              "      <td>...</td>\n",
              "      <td>5.449234</td>\n",
              "      <td>454.875</td>\n",
              "      <td>0.484680</td>\n",
              "      <td>0.639833</td>\n",
              "      <td>-0.000010</td>\n",
              "      <td>25.537670</td>\n",
              "      <td>11.765632</td>\n",
              "      <td>27.098175</td>\n",
              "      <td>24</td>\n",
              "      <td>33</td>\n",
              "    </tr>\n",
              "    <tr>\n",
              "      <th>1</th>\n",
              "      <td>2019-04-01</td>\n",
              "      <td>76</td>\n",
              "      <td>116</td>\n",
              "      <td>0.0</td>\n",
              "      <td>75.671249</td>\n",
              "      <td>0.033132</td>\n",
              "      <td>18.002174</td>\n",
              "      <td>-5498.0</td>\n",
              "      <td>26.215645</td>\n",
              "      <td>34.761047</td>\n",
              "      <td>...</td>\n",
              "      <td>4.859390</td>\n",
              "      <td>1021.625</td>\n",
              "      <td>0.201050</td>\n",
              "      <td>0.518284</td>\n",
              "      <td>-0.000013</td>\n",
              "      <td>18.740795</td>\n",
              "      <td>24.015633</td>\n",
              "      <td>19.537628</td>\n",
              "      <td>73</td>\n",
              "      <td>43</td>\n",
              "    </tr>\n",
              "    <tr>\n",
              "      <th>2</th>\n",
              "      <td>2019-04-01</td>\n",
              "      <td>3</td>\n",
              "      <td>150</td>\n",
              "      <td>0.0</td>\n",
              "      <td>84.491562</td>\n",
              "      <td>0.009856</td>\n",
              "      <td>40.154518</td>\n",
              "      <td>16198.0</td>\n",
              "      <td>32.049629</td>\n",
              "      <td>46.362610</td>\n",
              "      <td>...</td>\n",
              "      <td>4.847672</td>\n",
              "      <td>327.250</td>\n",
              "      <td>0.181274</td>\n",
              "      <td>0.540271</td>\n",
              "      <td>-0.000032</td>\n",
              "      <td>47.318920</td>\n",
              "      <td>222.125000</td>\n",
              "      <td>27.490753</td>\n",
              "      <td>3</td>\n",
              "      <td>73</td>\n",
              "    </tr>\n",
              "    <tr>\n",
              "      <th>3</th>\n",
              "      <td>2019-04-01</td>\n",
              "      <td>76</td>\n",
              "      <td>134</td>\n",
              "      <td>0.0</td>\n",
              "      <td>75.546249</td>\n",
              "      <td>0.003868</td>\n",
              "      <td>14.244363</td>\n",
              "      <td>-3194.0</td>\n",
              "      <td>21.821114</td>\n",
              "      <td>43.241516</td>\n",
              "      <td>...</td>\n",
              "      <td>4.632828</td>\n",
              "      <td>1183.625</td>\n",
              "      <td>0.118225</td>\n",
              "      <td>0.109765</td>\n",
              "      <td>-0.000009</td>\n",
              "      <td>18.916576</td>\n",
              "      <td>23.140633</td>\n",
              "      <td>17.672394</td>\n",
              "      <td>73</td>\n",
              "      <td>61</td>\n",
              "    </tr>\n",
              "    <tr>\n",
              "      <th>4</th>\n",
              "      <td>2019-04-01</td>\n",
              "      <td>26</td>\n",
              "      <td>124</td>\n",
              "      <td>0.0</td>\n",
              "      <td>92.917343</td>\n",
              "      <td>0.003368</td>\n",
              "      <td>12.482644</td>\n",
              "      <td>-3258.0</td>\n",
              "      <td>33.186348</td>\n",
              "      <td>47.550110</td>\n",
              "      <td>...</td>\n",
              "      <td>4.429703</td>\n",
              "      <td>648.500</td>\n",
              "      <td>0.489319</td>\n",
              "      <td>0.297861</td>\n",
              "      <td>-0.000017</td>\n",
              "      <td>38.279858</td>\n",
              "      <td>49.875008</td>\n",
              "      <td>27.107941</td>\n",
              "      <td>26</td>\n",
              "      <td>51</td>\n",
              "    </tr>\n",
              "  </tbody>\n",
              "</table>\n",
              "<p>5 rows × 26 columns</p>\n",
              "</div>"
            ],
            "text/plain": [
              "    Datetime  Row  Col  aws_rainfall  era5_r850  era5_slor  era5_r250  \\\n",
              "0 2019-04-01   24  106           0.0  96.768906   0.031116  13.146707   \n",
              "1 2019-04-01   76  116           0.0  75.671249   0.033132  18.002174   \n",
              "2 2019-04-01    3  150           0.0  84.491562   0.009856  40.154518   \n",
              "3 2019-04-01   76  134           0.0  75.546249   0.003868  14.244363   \n",
              "4 2019-04-01   26  124           0.0  92.917343   0.003368  12.482644   \n",
              "\n",
              "   era5_sshf    era5_kx   era5_tcw  ...  era5_v250  era5_cape  era5_tclw  \\\n",
              "0   -38970.0  36.147285  44.220032  ...   5.449234    454.875   0.484680   \n",
              "1    -5498.0  26.215645  34.761047  ...   4.859390   1021.625   0.201050   \n",
              "2    16198.0  32.049629  46.362610  ...   4.847672    327.250   0.181274   \n",
              "3    -3194.0  21.821114  43.241516  ...   4.632828   1183.625   0.118225   \n",
              "4    -3258.0  33.186348  47.550110  ...   4.429703    648.500   0.489319   \n",
              "\n",
              "   era5_isor   era5_ie  era5_r500    era5_cin  era5_u250  Row_mapped  \\\n",
              "0   0.639833 -0.000010  25.537670   11.765632  27.098175          24   \n",
              "1   0.518284 -0.000013  18.740795   24.015633  19.537628          73   \n",
              "2   0.540271 -0.000032  47.318920  222.125000  27.490753           3   \n",
              "3   0.109765 -0.000009  18.916576   23.140633  17.672394          73   \n",
              "4   0.297861 -0.000017  38.279858   49.875008  27.107941          26   \n",
              "\n",
              "   Col_mapped  \n",
              "0          33  \n",
              "1          43  \n",
              "2          73  \n",
              "3          61  \n",
              "4          51  \n",
              "\n",
              "[5 rows x 26 columns]"
            ]
          },
          "execution_count": 6,
          "metadata": {},
          "output_type": "execute_result"
        }
      ],
      "source": [
        "df.head(5)"
      ]
    },
    {
      "cell_type": "code",
      "execution_count": null,
      "id": "cfe6f73d",
      "metadata": {
        "execution": {
          "iopub.execute_input": "2025-04-30T15:34:09.312413Z",
          "iopub.status.busy": "2025-04-30T15:34:09.312173Z",
          "iopub.status.idle": "2025-04-30T15:34:09.321567Z",
          "shell.execute_reply": "2025-04-30T15:34:09.320934Z"
        },
        "id": "cfe6f73d",
        "papermill": {
          "duration": 0.016533,
          "end_time": "2025-04-30T15:34:09.322718",
          "exception": false,
          "start_time": "2025-04-30T15:34:09.306185",
          "status": "completed"
        },
        "tags": []
      },
      "outputs": [],
      "source": [
        "def create_time_series_data(rainfall, timestamps, past_steps=12, future_steps=3, samples_per_day=24):\n",
        "    total_steps = past_steps + future_steps\n",
        "    step_size = int(24 / samples_per_day)\n",
        "\n",
        "    X_data, y_data, positions = [], [], []\n",
        "\n",
        "    for i in range(0, len(rainfall) - total_steps + 1, step_size):\n",
        "        if len(rainfall[i:i + total_steps]) == total_steps:\n",
        "            X_data.append(np.array(rainfall[i:i + past_steps]))\n",
        "            y_data.append(np.array(rainfall[i + past_steps:i + total_steps]))\n",
        "            positions.append(timestamps[i + total_steps - 1])\n",
        "\n",
        "    return np.array(X_data), np.array(y_data), np.array(positions)\n",
        "\n",
        "def calculate_optimum_alpha(data):\n",
        "    X_max = np.max(data)\n",
        "    X_min = np.min(data)\n",
        "    X_mean = np.mean(data)\n",
        "    return ((X_max - X_min) - X_mean) / (X_max - X_min) if (X_max - X_min) != 0 else 0.5\n",
        "\n",
        "def exponential_smoothing(data, alpha = 0.2):\n",
        "    smoothed = np.zeros_like(data)\n",
        "    smoothed[0] = data[0]\n",
        "    for t in range(1, len(data)):\n",
        "        smoothed[t] = alpha * data[t] + (1 - alpha) * smoothed[t-1]\n",
        "    return smoothed\n",
        "\n",
        "def data_smoothing(df):\n",
        "    feature_cols = [col for col in df.columns if col not in [\"Row\", \"Col\", \"Datetime\", \"aws_rainfall\", \"smoothed_rainfall\", \"Row_mapped\", \"Col_mapped\",]]\n",
        "\n",
        "    for (row, col), group in tqdm(df.groupby([\"Row\", \"Col\"]), desc=\"Processing groups\", unit=\"group\"):\n",
        "        group = group.sort_values(\"Datetime\")\n",
        "        original_rainfall_values = group['aws_rainfall'].values\n",
        "        alpha = calculate_optimum_alpha(original_rainfall_values)\n",
        "        rainfall_values = exponential_smoothing(original_rainfall_values, alpha)\n",
        "\n",
        "        # Update smoothed rainfall values back to the DataFrame\n",
        "        df.loc[group.index, 'smoothed_rainfall'] = rainfall_values\n",
        "\n",
        "    return df"
      ]
    },
    {
      "cell_type": "code",
      "execution_count": null,
      "id": "b29e0791",
      "metadata": {
        "execution": {
          "iopub.execute_input": "2025-04-30T15:34:09.333654Z",
          "iopub.status.busy": "2025-04-30T15:34:09.333415Z",
          "iopub.status.idle": "2025-04-30T15:34:09.349604Z",
          "shell.execute_reply": "2025-04-30T15:34:09.348827Z"
        },
        "id": "b29e0791",
        "outputId": "06b30d39-7223-4f57-ad40-3daa0774b350",
        "papermill": {
          "duration": 0.023112,
          "end_time": "2025-04-30T15:34:09.350966",
          "exception": false,
          "start_time": "2025-04-30T15:34:09.327854",
          "status": "completed"
        },
        "tags": []
      },
      "outputs": [
        {
          "name": "stdout",
          "output_type": "stream",
          "text": [
            "0 82\n",
            "0 77\n"
          ]
        }
      ],
      "source": [
        "col = np.array(df[\"Col_mapped\"].unique())\n",
        "row = np.array(df[\"Row_mapped\"].unique())\n",
        "print(np.min(row), np.max(row))\n",
        "print(np.min(col), np.max(col))\n"
      ]
    },
    {
      "cell_type": "code",
      "execution_count": null,
      "id": "7fb2d63a",
      "metadata": {
        "execution": {
          "iopub.execute_input": "2025-04-30T15:34:09.362053Z",
          "iopub.status.busy": "2025-04-30T15:34:09.361776Z",
          "iopub.status.idle": "2025-04-30T15:34:13.700138Z",
          "shell.execute_reply": "2025-04-30T15:34:13.699212Z"
        },
        "id": "7fb2d63a",
        "outputId": "a2340a60-f950-4060-9385-8134cca35133",
        "papermill": {
          "duration": 4.345315,
          "end_time": "2025-04-30T15:34:13.701614",
          "exception": false,
          "start_time": "2025-04-30T15:34:09.356299",
          "status": "completed"
        },
        "tags": []
      },
      "outputs": [
        {
          "name": "stderr",
          "output_type": "stream",
          "text": [
            "Processing groups: 100%|██████████| 334/334 [00:03<00:00, 101.39group/s]\n"
          ]
        }
      ],
      "source": [
        "df.replace([9999, np.inf, -np.inf], 0, inplace=True)\n",
        "df = data_smoothing(df)\n",
        "df[\"Col\"] = df[\"Col_mapped\"]\n",
        "df[\"Row\"] = df[\"Row_mapped\"]\n",
        "df.drop([\"Col_mapped\", \"Row_mapped\"], axis = 1, inplace = True)"
      ]
    },
    {
      "cell_type": "code",
      "execution_count": null,
      "id": "bbdb28ff",
      "metadata": {
        "execution": {
          "iopub.execute_input": "2025-04-30T15:34:13.719449Z",
          "iopub.status.busy": "2025-04-30T15:34:13.719230Z",
          "iopub.status.idle": "2025-04-30T15:34:13.740737Z",
          "shell.execute_reply": "2025-04-30T15:34:13.740038Z"
        },
        "id": "bbdb28ff",
        "outputId": "9cd6a389-db30-4834-8df1-893910fbf8ba",
        "papermill": {
          "duration": 0.031401,
          "end_time": "2025-04-30T15:34:13.742181",
          "exception": false,
          "start_time": "2025-04-30T15:34:13.710780",
          "status": "completed"
        },
        "tags": []
      },
      "outputs": [
        {
          "data": {
            "text/html": [
              "<div>\n",
              "<style scoped>\n",
              "    .dataframe tbody tr th:only-of-type {\n",
              "        vertical-align: middle;\n",
              "    }\n",
              "\n",
              "    .dataframe tbody tr th {\n",
              "        vertical-align: top;\n",
              "    }\n",
              "\n",
              "    .dataframe thead th {\n",
              "        text-align: right;\n",
              "    }\n",
              "</style>\n",
              "<table border=\"1\" class=\"dataframe\">\n",
              "  <thead>\n",
              "    <tr style=\"text-align: right;\">\n",
              "      <th></th>\n",
              "      <th>Datetime</th>\n",
              "      <th>Row</th>\n",
              "      <th>Col</th>\n",
              "      <th>aws_rainfall</th>\n",
              "      <th>era5_r850</th>\n",
              "      <th>era5_slor</th>\n",
              "      <th>era5_r250</th>\n",
              "      <th>era5_sshf</th>\n",
              "      <th>era5_kx</th>\n",
              "      <th>era5_tcw</th>\n",
              "      <th>...</th>\n",
              "      <th>era5_pev</th>\n",
              "      <th>era5_v250</th>\n",
              "      <th>era5_cape</th>\n",
              "      <th>era5_tclw</th>\n",
              "      <th>era5_isor</th>\n",
              "      <th>era5_ie</th>\n",
              "      <th>era5_r500</th>\n",
              "      <th>era5_cin</th>\n",
              "      <th>era5_u250</th>\n",
              "      <th>smoothed_rainfall</th>\n",
              "    </tr>\n",
              "  </thead>\n",
              "  <tbody>\n",
              "    <tr>\n",
              "      <th>0</th>\n",
              "      <td>2019-04-01</td>\n",
              "      <td>24</td>\n",
              "      <td>33</td>\n",
              "      <td>0.0</td>\n",
              "      <td>96.768906</td>\n",
              "      <td>0.031116</td>\n",
              "      <td>13.146707</td>\n",
              "      <td>-38970.0</td>\n",
              "      <td>36.147285</td>\n",
              "      <td>44.220032</td>\n",
              "      <td>...</td>\n",
              "      <td>-0.000009</td>\n",
              "      <td>5.449234</td>\n",
              "      <td>454.875</td>\n",
              "      <td>0.484680</td>\n",
              "      <td>0.639833</td>\n",
              "      <td>-0.000010</td>\n",
              "      <td>25.537670</td>\n",
              "      <td>11.765632</td>\n",
              "      <td>27.098175</td>\n",
              "      <td>0.0</td>\n",
              "    </tr>\n",
              "    <tr>\n",
              "      <th>1</th>\n",
              "      <td>2019-04-01</td>\n",
              "      <td>73</td>\n",
              "      <td>43</td>\n",
              "      <td>0.0</td>\n",
              "      <td>75.671249</td>\n",
              "      <td>0.033132</td>\n",
              "      <td>18.002174</td>\n",
              "      <td>-5498.0</td>\n",
              "      <td>26.215645</td>\n",
              "      <td>34.761047</td>\n",
              "      <td>...</td>\n",
              "      <td>-0.000022</td>\n",
              "      <td>4.859390</td>\n",
              "      <td>1021.625</td>\n",
              "      <td>0.201050</td>\n",
              "      <td>0.518284</td>\n",
              "      <td>-0.000013</td>\n",
              "      <td>18.740795</td>\n",
              "      <td>24.015633</td>\n",
              "      <td>19.537628</td>\n",
              "      <td>0.0</td>\n",
              "    </tr>\n",
              "    <tr>\n",
              "      <th>2</th>\n",
              "      <td>2019-04-01</td>\n",
              "      <td>3</td>\n",
              "      <td>73</td>\n",
              "      <td>0.0</td>\n",
              "      <td>84.491562</td>\n",
              "      <td>0.009856</td>\n",
              "      <td>40.154518</td>\n",
              "      <td>16198.0</td>\n",
              "      <td>32.049629</td>\n",
              "      <td>46.362610</td>\n",
              "      <td>...</td>\n",
              "      <td>-0.000036</td>\n",
              "      <td>4.847672</td>\n",
              "      <td>327.250</td>\n",
              "      <td>0.181274</td>\n",
              "      <td>0.540271</td>\n",
              "      <td>-0.000032</td>\n",
              "      <td>47.318920</td>\n",
              "      <td>222.125000</td>\n",
              "      <td>27.490753</td>\n",
              "      <td>0.0</td>\n",
              "    </tr>\n",
              "    <tr>\n",
              "      <th>3</th>\n",
              "      <td>2019-04-01</td>\n",
              "      <td>73</td>\n",
              "      <td>61</td>\n",
              "      <td>0.0</td>\n",
              "      <td>75.546249</td>\n",
              "      <td>0.003868</td>\n",
              "      <td>14.244363</td>\n",
              "      <td>-3194.0</td>\n",
              "      <td>21.821114</td>\n",
              "      <td>43.241516</td>\n",
              "      <td>...</td>\n",
              "      <td>-0.000009</td>\n",
              "      <td>4.632828</td>\n",
              "      <td>1183.625</td>\n",
              "      <td>0.118225</td>\n",
              "      <td>0.109765</td>\n",
              "      <td>-0.000009</td>\n",
              "      <td>18.916576</td>\n",
              "      <td>23.140633</td>\n",
              "      <td>17.672394</td>\n",
              "      <td>0.0</td>\n",
              "    </tr>\n",
              "    <tr>\n",
              "      <th>4</th>\n",
              "      <td>2019-04-01</td>\n",
              "      <td>26</td>\n",
              "      <td>51</td>\n",
              "      <td>0.0</td>\n",
              "      <td>92.917343</td>\n",
              "      <td>0.003368</td>\n",
              "      <td>12.482644</td>\n",
              "      <td>-3258.0</td>\n",
              "      <td>33.186348</td>\n",
              "      <td>47.550110</td>\n",
              "      <td>...</td>\n",
              "      <td>-0.000014</td>\n",
              "      <td>4.429703</td>\n",
              "      <td>648.500</td>\n",
              "      <td>0.489319</td>\n",
              "      <td>0.297861</td>\n",
              "      <td>-0.000017</td>\n",
              "      <td>38.279858</td>\n",
              "      <td>49.875008</td>\n",
              "      <td>27.107941</td>\n",
              "      <td>0.0</td>\n",
              "    </tr>\n",
              "  </tbody>\n",
              "</table>\n",
              "<p>5 rows × 25 columns</p>\n",
              "</div>"
            ],
            "text/plain": [
              "    Datetime  Row  Col  aws_rainfall  era5_r850  era5_slor  era5_r250  \\\n",
              "0 2019-04-01   24   33           0.0  96.768906   0.031116  13.146707   \n",
              "1 2019-04-01   73   43           0.0  75.671249   0.033132  18.002174   \n",
              "2 2019-04-01    3   73           0.0  84.491562   0.009856  40.154518   \n",
              "3 2019-04-01   73   61           0.0  75.546249   0.003868  14.244363   \n",
              "4 2019-04-01   26   51           0.0  92.917343   0.003368  12.482644   \n",
              "\n",
              "   era5_sshf    era5_kx   era5_tcw  ...  era5_pev  era5_v250  era5_cape  \\\n",
              "0   -38970.0  36.147285  44.220032  ... -0.000009   5.449234    454.875   \n",
              "1    -5498.0  26.215645  34.761047  ... -0.000022   4.859390   1021.625   \n",
              "2    16198.0  32.049629  46.362610  ... -0.000036   4.847672    327.250   \n",
              "3    -3194.0  21.821114  43.241516  ... -0.000009   4.632828   1183.625   \n",
              "4    -3258.0  33.186348  47.550110  ... -0.000014   4.429703    648.500   \n",
              "\n",
              "   era5_tclw  era5_isor   era5_ie  era5_r500    era5_cin  era5_u250  \\\n",
              "0   0.484680   0.639833 -0.000010  25.537670   11.765632  27.098175   \n",
              "1   0.201050   0.518284 -0.000013  18.740795   24.015633  19.537628   \n",
              "2   0.181274   0.540271 -0.000032  47.318920  222.125000  27.490753   \n",
              "3   0.118225   0.109765 -0.000009  18.916576   23.140633  17.672394   \n",
              "4   0.489319   0.297861 -0.000017  38.279858   49.875008  27.107941   \n",
              "\n",
              "   smoothed_rainfall  \n",
              "0                0.0  \n",
              "1                0.0  \n",
              "2                0.0  \n",
              "3                0.0  \n",
              "4                0.0  \n",
              "\n",
              "[5 rows x 25 columns]"
            ]
          },
          "execution_count": 10,
          "metadata": {},
          "output_type": "execute_result"
        }
      ],
      "source": [
        "df.head()"
      ]
    },
    {
      "cell_type": "code",
      "execution_count": null,
      "id": "229817aa",
      "metadata": {
        "execution": {
          "iopub.execute_input": "2025-04-30T15:34:13.757372Z",
          "iopub.status.busy": "2025-04-30T15:34:13.757158Z",
          "iopub.status.idle": "2025-04-30T15:34:13.772789Z",
          "shell.execute_reply": "2025-04-30T15:34:13.772043Z"
        },
        "id": "229817aa",
        "outputId": "6fea0fd2-cb01-4893-b5c0-f34dc0ecdf63",
        "papermill": {
          "duration": 0.024911,
          "end_time": "2025-04-30T15:34:13.774332",
          "exception": false,
          "start_time": "2025-04-30T15:34:13.749421",
          "status": "completed"
        },
        "tags": []
      },
      "outputs": [
        {
          "name": "stdout",
          "output_type": "stream",
          "text": [
            "0 82\n",
            "0 77\n"
          ]
        }
      ],
      "source": [
        "row = np.array(df[\"Row\"].unique())\n",
        "col = np.array(df[\"Col\"].unique())\n",
        "print(np.min(row), np.max(row))\n",
        "print(np.min(col), np.max(col))\n"
      ]
    },
    {
      "cell_type": "code",
      "execution_count": null,
      "id": "60240da2",
      "metadata": {
        "execution": {
          "iopub.execute_input": "2025-04-30T15:34:13.790495Z",
          "iopub.status.busy": "2025-04-30T15:34:13.790247Z",
          "iopub.status.idle": "2025-04-30T15:34:13.795955Z",
          "shell.execute_reply": "2025-04-30T15:34:13.795093Z"
        },
        "id": "60240da2",
        "papermill": {
          "duration": 0.014928,
          "end_time": "2025-04-30T15:34:13.797080",
          "exception": false,
          "start_time": "2025-04-30T15:34:13.782152",
          "status": "completed"
        },
        "tags": []
      },
      "outputs": [],
      "source": [
        "def extract_to_numpy(df: pd.DataFrame):\n",
        "    timestamps = df[\"Datetime\"].unique()\n",
        "    result = []\n",
        "\n",
        "    for timestamp, group in tqdm(df.groupby(\"Datetime\"), desc=\"Extracting numpy\"):\n",
        "        grid_rainfall = np.zeros((83, 78), dtype=np.float32)\n",
        "        grid_r850 = np.zeros((83, 78), dtype=np.float32)\n",
        "        grid_tclw = np.zeros((83, 78), dtype=np.float32)\n",
        "\n",
        "        grid_rainfall[group[\"Row\"].values, group[\"Col\"].values] = group[\"aws_rainfall\"].values\n",
        "        grid_r850[group[\"Row\"].values, group[\"Col\"].values] = group[\"era5_r850\"].values\n",
        "        grid_tclw[group[\"Row\"].values, group[\"Col\"].values] = group[\"era5_tclw\"].values\n",
        "\n",
        "        # Stack rainfall and r850 as channels\n",
        "        grid = np.stack([grid_rainfall, grid_r850, grid_tclw], axis=-1)\n",
        "        result.append(grid)\n",
        "\n",
        "    return np.array(result), timestamps.reshape(-1)"
      ]
    },
    {
      "cell_type": "code",
      "execution_count": null,
      "id": "f180b2d9",
      "metadata": {
        "execution": {
          "iopub.execute_input": "2025-04-30T15:34:13.811594Z",
          "iopub.status.busy": "2025-04-30T15:34:13.811343Z",
          "iopub.status.idle": "2025-04-30T15:34:13.950781Z",
          "shell.execute_reply": "2025-04-30T15:34:13.949905Z"
        },
        "id": "f180b2d9",
        "papermill": {
          "duration": 0.148701,
          "end_time": "2025-04-30T15:34:13.952519",
          "exception": false,
          "start_time": "2025-04-30T15:34:13.803818",
          "status": "completed"
        },
        "tags": []
      },
      "outputs": [],
      "source": [
        "from sklearn.preprocessing import MinMaxScaler\n",
        "\n",
        "scaler_rainfall = MinMaxScaler()\n",
        "scaler_r850 = MinMaxScaler()\n",
        "scaler_tclw = MinMaxScaler()\n",
        "\n",
        "df[\"aws_rainfall\"] = scaler_rainfall.fit_transform(df[\"aws_rainfall\"].values.reshape(-1, 1))\n",
        "df[\"era5_r850\"] = scaler_r850.fit_transform(df[\"era5_r850\"].values.reshape(-1, 1))\n",
        "df[\"era5_tclw\"] = scaler_tclw.fit_transform(df[\"era5_tclw\"].values.reshape(-1, 1))"
      ]
    },
    {
      "cell_type": "code",
      "execution_count": null,
      "id": "9b462ec8",
      "metadata": {
        "execution": {
          "iopub.execute_input": "2025-04-30T15:34:13.969971Z",
          "iopub.status.busy": "2025-04-30T15:34:13.969656Z",
          "iopub.status.idle": "2025-04-30T15:34:14.002501Z",
          "shell.execute_reply": "2025-04-30T15:34:14.001629Z"
        },
        "id": "9b462ec8",
        "papermill": {
          "duration": 0.042211,
          "end_time": "2025-04-30T15:34:14.003934",
          "exception": false,
          "start_time": "2025-04-30T15:34:13.961723",
          "status": "completed"
        },
        "tags": []
      },
      "outputs": [],
      "source": [
        "df = df[[\"Datetime\", \"Row\", \"Col\", \"aws_rainfall\", \"era5_r850\", \"era5_tclw\"]]"
      ]
    },
    {
      "cell_type": "code",
      "execution_count": null,
      "id": "d45ee5b2",
      "metadata": {
        "execution": {
          "iopub.execute_input": "2025-04-30T15:34:14.019130Z",
          "iopub.status.busy": "2025-04-30T15:34:14.018893Z",
          "iopub.status.idle": "2025-04-30T15:34:14.023529Z",
          "shell.execute_reply": "2025-04-30T15:34:14.022759Z"
        },
        "id": "d45ee5b2",
        "outputId": "e4547fd6-08fa-42b9-c115-dde11d461676",
        "papermill": {
          "duration": 0.01349,
          "end_time": "2025-04-30T15:34:14.024811",
          "exception": false,
          "start_time": "2025-04-30T15:34:14.011321",
          "status": "completed"
        },
        "tags": []
      },
      "outputs": [
        {
          "data": {
            "text/plain": [
              "Index(['Datetime', 'Row', 'Col', 'aws_rainfall', 'era5_r850', 'era5_tclw'], dtype='object')"
            ]
          },
          "execution_count": 15,
          "metadata": {},
          "output_type": "execute_result"
        }
      ],
      "source": [
        "df.columns"
      ]
    },
    {
      "cell_type": "code",
      "execution_count": null,
      "id": "161eae5e",
      "metadata": {
        "execution": {
          "iopub.execute_input": "2025-04-30T15:34:14.040586Z",
          "iopub.status.busy": "2025-04-30T15:34:14.040332Z",
          "iopub.status.idle": "2025-04-30T15:34:14.045643Z",
          "shell.execute_reply": "2025-04-30T15:34:14.044939Z"
        },
        "id": "161eae5e",
        "outputId": "05eb4e01-9c54-4560-98e2-9f72a4d29fcb",
        "papermill": {
          "duration": 0.014254,
          "end_time": "2025-04-30T15:34:14.046908",
          "exception": false,
          "start_time": "2025-04-30T15:34:14.032654",
          "status": "completed"
        },
        "tags": []
      },
      "outputs": [
        {
          "data": {
            "text/plain": [
              "array([0., 0., 0., ..., 0., 0., 0.], dtype=float32)"
            ]
          },
          "execution_count": 16,
          "metadata": {},
          "output_type": "execute_result"
        }
      ],
      "source": [
        "np.array(df[\"aws_rainfall\"])"
      ]
    },
    {
      "cell_type": "code",
      "execution_count": null,
      "id": "92ad20ec",
      "metadata": {
        "execution": {
          "iopub.execute_input": "2025-04-30T15:34:14.062208Z",
          "iopub.status.busy": "2025-04-30T15:34:14.061979Z",
          "iopub.status.idle": "2025-04-30T15:34:18.066240Z",
          "shell.execute_reply": "2025-04-30T15:34:18.065312Z"
        },
        "id": "92ad20ec",
        "outputId": "a4511a95-57d7-4cf5-a1de-71825537b887",
        "papermill": {
          "duration": 4.013536,
          "end_time": "2025-04-30T15:34:18.067739",
          "exception": false,
          "start_time": "2025-04-30T15:34:14.054203",
          "status": "completed"
        },
        "tags": []
      },
      "outputs": [
        {
          "name": "stderr",
          "output_type": "stream",
          "text": [
            "Extracting numpy: 100%|██████████| 2807/2807 [00:00<00:00, 3387.42it/s]\n"
          ]
        },
        {
          "name": "stdout",
          "output_type": "stream",
          "text": [
            "X shape: (2796, 6, 83, 78, 1)\n",
            "y shape: (2796, 6, 83, 78, 1)\n",
            "z shape: (2796, 1)\n"
          ]
        }
      ],
      "source": [
        "rainfall, timestamps = extract_to_numpy(df)\n",
        "# rainfall = rainfall[..., np.newaxis]\n",
        "timestamps = timestamps[..., np.newaxis]\n",
        "\n",
        "past_steps = 6\n",
        "future_steps = 6\n",
        "X_data, y_data, z = create_time_series_data(rainfall, timestamps, past_steps, future_steps)\n",
        "\n",
        "# cmt hai dòng dưới thì 3 channels\n",
        "X_data = X_data[..., 0:1]\n",
        "y_data = y_data[..., 0:1]\n",
        "\n",
        "print(\"X shape:\", X_data.shape)\n",
        "print(\"y shape:\", y_data.shape)\n",
        "print(\"z shape:\", z.shape)\n",
        "z = z.reshape(-1)"
      ]
    },
    {
      "cell_type": "code",
      "execution_count": null,
      "id": "5527639c",
      "metadata": {
        "execution": {
          "iopub.execute_input": "2025-04-30T15:34:18.084547Z",
          "iopub.status.busy": "2025-04-30T15:34:18.084323Z",
          "iopub.status.idle": "2025-04-30T15:34:18.169002Z",
          "shell.execute_reply": "2025-04-30T15:34:18.168282Z"
        },
        "id": "5527639c",
        "papermill": {
          "duration": 0.094688,
          "end_time": "2025-04-30T15:34:18.170516",
          "exception": false,
          "start_time": "2025-04-30T15:34:18.075828",
          "status": "completed"
        },
        "tags": []
      },
      "outputs": [],
      "source": [
        "from sklearn.model_selection import train_test_split\n",
        "# X_train, X_test, y_train, y_test, z_train, z_test = train_test_split(X_data, y_data, z, test_size=0.2, random_state=42)\n",
        "split_index = int(len(X_data) * 0.8)\n",
        "\n",
        "# Training set (first 80%)\n",
        "X_train, y_train, z_train = X_data[:split_index], y_data[:split_index], z[:split_index]\n",
        "\n",
        "# Testing set (last 20%)\n",
        "X_test, y_test, z_test = X_data[split_index:], y_data[split_index:], z[split_index:]"
      ]
    },
    {
      "cell_type": "code",
      "execution_count": null,
      "id": "e7faed93",
      "metadata": {
        "execution": {
          "iopub.execute_input": "2025-04-30T15:34:18.187707Z",
          "iopub.status.busy": "2025-04-30T15:34:18.187471Z",
          "iopub.status.idle": "2025-04-30T15:34:18.191979Z",
          "shell.execute_reply": "2025-04-30T15:34:18.191046Z"
        },
        "id": "e7faed93",
        "outputId": "43d46a93-b2a1-45e0-d825-f8d692549eec",
        "papermill": {
          "duration": 0.014258,
          "end_time": "2025-04-30T15:34:18.193158",
          "exception": false,
          "start_time": "2025-04-30T15:34:18.178900",
          "status": "completed"
        },
        "tags": []
      },
      "outputs": [
        {
          "name": "stdout",
          "output_type": "stream",
          "text": [
            "X_train shape: (2236, 6, 83, 78, 1)\n",
            "y_train shape: (2236, 6, 83, 78, 1)\n",
            "z_train shape: (2236,)\n"
          ]
        }
      ],
      "source": [
        "print(\"X_train shape:\", X_train.shape)\n",
        "print(\"y_train shape:\", y_train.shape)\n",
        "print(\"z_train shape:\", z_train.shape)"
      ]
    },
    {
      "cell_type": "code",
      "execution_count": null,
      "id": "0c8e2720",
      "metadata": {
        "execution": {
          "iopub.execute_input": "2025-04-30T15:34:18.209774Z",
          "iopub.status.busy": "2025-04-30T15:34:18.209540Z",
          "iopub.status.idle": "2025-04-30T15:34:18.214342Z",
          "shell.execute_reply": "2025-04-30T15:34:18.213423Z"
        },
        "id": "0c8e2720",
        "outputId": "1b9df0eb-2ad0-4bb7-f206-438a42cfec2e",
        "papermill": {
          "duration": 0.014487,
          "end_time": "2025-04-30T15:34:18.215669",
          "exception": false,
          "start_time": "2025-04-30T15:34:18.201182",
          "status": "completed"
        },
        "tags": []
      },
      "outputs": [
        {
          "data": {
            "text/plain": [
              "(6, 83, 78, 1)"
            ]
          },
          "execution_count": 20,
          "metadata": {},
          "output_type": "execute_result"
        }
      ],
      "source": [
        "X_train.shape[1:]"
      ]
    },
    {
      "cell_type": "code",
      "execution_count": null,
      "id": "35c9bac7",
      "metadata": {
        "execution": {
          "iopub.execute_input": "2025-04-30T15:34:18.232465Z",
          "iopub.status.busy": "2025-04-30T15:34:18.232242Z",
          "iopub.status.idle": "2025-04-30T15:34:32.422179Z",
          "shell.execute_reply": "2025-04-30T15:34:32.421199Z"
        },
        "id": "35c9bac7",
        "outputId": "58a85788-172e-4c35-9ccb-f5a311753ff3",
        "papermill": {
          "duration": 14.199858,
          "end_time": "2025-04-30T15:34:32.423506",
          "exception": false,
          "start_time": "2025-04-30T15:34:18.223648",
          "status": "completed"
        },
        "tags": []
      },
      "outputs": [
        {
          "data": {
            "text/html": [
              "<pre style=\"white-space:pre;overflow-x:auto;line-height:normal;font-family:Menlo,'DejaVu Sans Mono',consolas,'Courier New',monospace\"><span style=\"font-weight: bold\">Model: \"sequential\"</span>\n",
              "</pre>\n"
            ],
            "text/plain": [
              "\u001b[1mModel: \"sequential\"\u001b[0m\n"
            ]
          },
          "metadata": {},
          "output_type": "display_data"
        },
        {
          "data": {
            "text/html": [
              "<pre style=\"white-space:pre;overflow-x:auto;line-height:normal;font-family:Menlo,'DejaVu Sans Mono',consolas,'Courier New',monospace\">┏━━━━━━━━━━━━━━━━━━━━━━━━━━━━━━━━━━━━━━┳━━━━━━━━━━━━━━━━━━━━━━━━━━━━━┳━━━━━━━━━━━━━━━━━┓\n",
              "┃<span style=\"font-weight: bold\"> Layer (type)                         </span>┃<span style=\"font-weight: bold\"> Output Shape                </span>┃<span style=\"font-weight: bold\">         Param # </span>┃\n",
              "┡━━━━━━━━━━━━━━━━━━━━━━━━━━━━━━━━━━━━━━╇━━━━━━━━━━━━━━━━━━━━━━━━━━━━━╇━━━━━━━━━━━━━━━━━┩\n",
              "│ conv_lstm2d (<span style=\"color: #0087ff; text-decoration-color: #0087ff\">ConvLSTM2D</span>)             │ (<span style=\"color: #00d7ff; text-decoration-color: #00d7ff\">None</span>, <span style=\"color: #00af00; text-decoration-color: #00af00\">6</span>, <span style=\"color: #00af00; text-decoration-color: #00af00\">83</span>, <span style=\"color: #00af00; text-decoration-color: #00af00\">78</span>, <span style=\"color: #00af00; text-decoration-color: #00af00\">32</span>)       │          <span style=\"color: #00af00; text-decoration-color: #00af00\">67,712</span> │\n",
              "├──────────────────────────────────────┼─────────────────────────────┼─────────────────┤\n",
              "│ batch_normalization                  │ (<span style=\"color: #00d7ff; text-decoration-color: #00d7ff\">None</span>, <span style=\"color: #00af00; text-decoration-color: #00af00\">6</span>, <span style=\"color: #00af00; text-decoration-color: #00af00\">83</span>, <span style=\"color: #00af00; text-decoration-color: #00af00\">78</span>, <span style=\"color: #00af00; text-decoration-color: #00af00\">32</span>)       │             <span style=\"color: #00af00; text-decoration-color: #00af00\">128</span> │\n",
              "│ (<span style=\"color: #0087ff; text-decoration-color: #0087ff\">BatchNormalization</span>)                 │                             │                 │\n",
              "├──────────────────────────────────────┼─────────────────────────────┼─────────────────┤\n",
              "│ conv_lstm2d_1 (<span style=\"color: #0087ff; text-decoration-color: #0087ff\">ConvLSTM2D</span>)           │ (<span style=\"color: #00d7ff; text-decoration-color: #00d7ff\">None</span>, <span style=\"color: #00af00; text-decoration-color: #00af00\">6</span>, <span style=\"color: #00af00; text-decoration-color: #00af00\">83</span>, <span style=\"color: #00af00; text-decoration-color: #00af00\">78</span>, <span style=\"color: #00af00; text-decoration-color: #00af00\">32</span>)       │         <span style=\"color: #00af00; text-decoration-color: #00af00\">131,200</span> │\n",
              "├──────────────────────────────────────┼─────────────────────────────┼─────────────────┤\n",
              "│ batch_normalization_1                │ (<span style=\"color: #00d7ff; text-decoration-color: #00d7ff\">None</span>, <span style=\"color: #00af00; text-decoration-color: #00af00\">6</span>, <span style=\"color: #00af00; text-decoration-color: #00af00\">83</span>, <span style=\"color: #00af00; text-decoration-color: #00af00\">78</span>, <span style=\"color: #00af00; text-decoration-color: #00af00\">32</span>)       │             <span style=\"color: #00af00; text-decoration-color: #00af00\">128</span> │\n",
              "│ (<span style=\"color: #0087ff; text-decoration-color: #0087ff\">BatchNormalization</span>)                 │                             │                 │\n",
              "├──────────────────────────────────────┼─────────────────────────────┼─────────────────┤\n",
              "│ conv_lstm2d_2 (<span style=\"color: #0087ff; text-decoration-color: #0087ff\">ConvLSTM2D</span>)           │ (<span style=\"color: #00d7ff; text-decoration-color: #00d7ff\">None</span>, <span style=\"color: #00af00; text-decoration-color: #00af00\">6</span>, <span style=\"color: #00af00; text-decoration-color: #00af00\">83</span>, <span style=\"color: #00af00; text-decoration-color: #00af00\">78</span>, <span style=\"color: #00af00; text-decoration-color: #00af00\">32</span>)       │         <span style=\"color: #00af00; text-decoration-color: #00af00\">131,200</span> │\n",
              "├──────────────────────────────────────┼─────────────────────────────┼─────────────────┤\n",
              "│ batch_normalization_2                │ (<span style=\"color: #00d7ff; text-decoration-color: #00d7ff\">None</span>, <span style=\"color: #00af00; text-decoration-color: #00af00\">6</span>, <span style=\"color: #00af00; text-decoration-color: #00af00\">83</span>, <span style=\"color: #00af00; text-decoration-color: #00af00\">78</span>, <span style=\"color: #00af00; text-decoration-color: #00af00\">32</span>)       │             <span style=\"color: #00af00; text-decoration-color: #00af00\">128</span> │\n",
              "│ (<span style=\"color: #0087ff; text-decoration-color: #0087ff\">BatchNormalization</span>)                 │                             │                 │\n",
              "├──────────────────────────────────────┼─────────────────────────────┼─────────────────┤\n",
              "│ conv3d (<span style=\"color: #0087ff; text-decoration-color: #0087ff\">Conv3D</span>)                      │ (<span style=\"color: #00d7ff; text-decoration-color: #00d7ff\">None</span>, <span style=\"color: #00af00; text-decoration-color: #00af00\">6</span>, <span style=\"color: #00af00; text-decoration-color: #00af00\">83</span>, <span style=\"color: #00af00; text-decoration-color: #00af00\">78</span>, <span style=\"color: #00af00; text-decoration-color: #00af00\">1</span>)        │           <span style=\"color: #00af00; text-decoration-color: #00af00\">2,049</span> │\n",
              "└──────────────────────────────────────┴─────────────────────────────┴─────────────────┘\n",
              "</pre>\n"
            ],
            "text/plain": [
              "┏━━━━━━━━━━━━━━━━━━━━━━━━━━━━━━━━━━━━━━┳━━━━━━━━━━━━━━━━━━━━━━━━━━━━━┳━━━━━━━━━━━━━━━━━┓\n",
              "┃\u001b[1m \u001b[0m\u001b[1mLayer (type)                        \u001b[0m\u001b[1m \u001b[0m┃\u001b[1m \u001b[0m\u001b[1mOutput Shape               \u001b[0m\u001b[1m \u001b[0m┃\u001b[1m \u001b[0m\u001b[1m        Param #\u001b[0m\u001b[1m \u001b[0m┃\n",
              "┡━━━━━━━━━━━━━━━━━━━━━━━━━━━━━━━━━━━━━━╇━━━━━━━━━━━━━━━━━━━━━━━━━━━━━╇━━━━━━━━━━━━━━━━━┩\n",
              "│ conv_lstm2d (\u001b[38;5;33mConvLSTM2D\u001b[0m)             │ (\u001b[38;5;45mNone\u001b[0m, \u001b[38;5;34m6\u001b[0m, \u001b[38;5;34m83\u001b[0m, \u001b[38;5;34m78\u001b[0m, \u001b[38;5;34m32\u001b[0m)       │          \u001b[38;5;34m67,712\u001b[0m │\n",
              "├──────────────────────────────────────┼─────────────────────────────┼─────────────────┤\n",
              "│ batch_normalization                  │ (\u001b[38;5;45mNone\u001b[0m, \u001b[38;5;34m6\u001b[0m, \u001b[38;5;34m83\u001b[0m, \u001b[38;5;34m78\u001b[0m, \u001b[38;5;34m32\u001b[0m)       │             \u001b[38;5;34m128\u001b[0m │\n",
              "│ (\u001b[38;5;33mBatchNormalization\u001b[0m)                 │                             │                 │\n",
              "├──────────────────────────────────────┼─────────────────────────────┼─────────────────┤\n",
              "│ conv_lstm2d_1 (\u001b[38;5;33mConvLSTM2D\u001b[0m)           │ (\u001b[38;5;45mNone\u001b[0m, \u001b[38;5;34m6\u001b[0m, \u001b[38;5;34m83\u001b[0m, \u001b[38;5;34m78\u001b[0m, \u001b[38;5;34m32\u001b[0m)       │         \u001b[38;5;34m131,200\u001b[0m │\n",
              "├──────────────────────────────────────┼─────────────────────────────┼─────────────────┤\n",
              "│ batch_normalization_1                │ (\u001b[38;5;45mNone\u001b[0m, \u001b[38;5;34m6\u001b[0m, \u001b[38;5;34m83\u001b[0m, \u001b[38;5;34m78\u001b[0m, \u001b[38;5;34m32\u001b[0m)       │             \u001b[38;5;34m128\u001b[0m │\n",
              "│ (\u001b[38;5;33mBatchNormalization\u001b[0m)                 │                             │                 │\n",
              "├──────────────────────────────────────┼─────────────────────────────┼─────────────────┤\n",
              "│ conv_lstm2d_2 (\u001b[38;5;33mConvLSTM2D\u001b[0m)           │ (\u001b[38;5;45mNone\u001b[0m, \u001b[38;5;34m6\u001b[0m, \u001b[38;5;34m83\u001b[0m, \u001b[38;5;34m78\u001b[0m, \u001b[38;5;34m32\u001b[0m)       │         \u001b[38;5;34m131,200\u001b[0m │\n",
              "├──────────────────────────────────────┼─────────────────────────────┼─────────────────┤\n",
              "│ batch_normalization_2                │ (\u001b[38;5;45mNone\u001b[0m, \u001b[38;5;34m6\u001b[0m, \u001b[38;5;34m83\u001b[0m, \u001b[38;5;34m78\u001b[0m, \u001b[38;5;34m32\u001b[0m)       │             \u001b[38;5;34m128\u001b[0m │\n",
              "│ (\u001b[38;5;33mBatchNormalization\u001b[0m)                 │                             │                 │\n",
              "├──────────────────────────────────────┼─────────────────────────────┼─────────────────┤\n",
              "│ conv3d (\u001b[38;5;33mConv3D\u001b[0m)                      │ (\u001b[38;5;45mNone\u001b[0m, \u001b[38;5;34m6\u001b[0m, \u001b[38;5;34m83\u001b[0m, \u001b[38;5;34m78\u001b[0m, \u001b[38;5;34m1\u001b[0m)        │           \u001b[38;5;34m2,049\u001b[0m │\n",
              "└──────────────────────────────────────┴─────────────────────────────┴─────────────────┘\n"
            ]
          },
          "metadata": {},
          "output_type": "display_data"
        },
        {
          "data": {
            "text/html": [
              "<pre style=\"white-space:pre;overflow-x:auto;line-height:normal;font-family:Menlo,'DejaVu Sans Mono',consolas,'Courier New',monospace\"><span style=\"font-weight: bold\"> Total params: </span><span style=\"color: #00af00; text-decoration-color: #00af00\">332,545</span> (1.27 MB)\n",
              "</pre>\n"
            ],
            "text/plain": [
              "\u001b[1m Total params: \u001b[0m\u001b[38;5;34m332,545\u001b[0m (1.27 MB)\n"
            ]
          },
          "metadata": {},
          "output_type": "display_data"
        },
        {
          "data": {
            "text/html": [
              "<pre style=\"white-space:pre;overflow-x:auto;line-height:normal;font-family:Menlo,'DejaVu Sans Mono',consolas,'Courier New',monospace\"><span style=\"font-weight: bold\"> Trainable params: </span><span style=\"color: #00af00; text-decoration-color: #00af00\">332,353</span> (1.27 MB)\n",
              "</pre>\n"
            ],
            "text/plain": [
              "\u001b[1m Trainable params: \u001b[0m\u001b[38;5;34m332,353\u001b[0m (1.27 MB)\n"
            ]
          },
          "metadata": {},
          "output_type": "display_data"
        },
        {
          "data": {
            "text/html": [
              "<pre style=\"white-space:pre;overflow-x:auto;line-height:normal;font-family:Menlo,'DejaVu Sans Mono',consolas,'Courier New',monospace\"><span style=\"font-weight: bold\"> Non-trainable params: </span><span style=\"color: #00af00; text-decoration-color: #00af00\">192</span> (768.00 B)\n",
              "</pre>\n"
            ],
            "text/plain": [
              "\u001b[1m Non-trainable params: \u001b[0m\u001b[38;5;34m192\u001b[0m (768.00 B)\n"
            ]
          },
          "metadata": {},
          "output_type": "display_data"
        }
      ],
      "source": [
        "import numpy as np\n",
        "from tensorflow.keras.models import Sequential, load_model\n",
        "from tensorflow.keras.layers import ConvLSTM2D, BatchNormalization, Conv2D, Conv3D\n",
        "from tensorflow.keras.optimizers import Adam\n",
        "from tensorflow.keras.regularizers import l2\n",
        "from tensorflow.keras import Input\n",
        "import tensorflow as tf\n",
        "from tensorflow.keras.layers import LeakyReLU\n",
        "\n",
        "# Enable MirroredStrategy to use both GPUs\n",
        "strategy = tf.distribute.MirroredStrategy()\n",
        "tf.distribute.experimental_set_strategy(strategy)\n",
        "n_steps, row_mapped, col_mapped, channels = X_train.shape[1:5]\n",
        "\n",
        "model = Sequential([\n",
        "    Input(shape=(n_steps, row_mapped, col_mapped, channels)),\n",
        "    ConvLSTM2D(filters=num_filters, kernel_size=(kernel_size, kernel_size), activation='relu',\n",
        "               padding='same', return_sequences=True),\n",
        "    BatchNormalization(),\n",
        "\n",
        "    ConvLSTM2D(filters=num_filters, kernel_size=(kernel_size, kernel_size), activation='relu',\n",
        "               padding='same', return_sequences=True),\n",
        "    BatchNormalization(),\n",
        "\n",
        "    ConvLSTM2D(filters=num_filters, kernel_size=(kernel_size, kernel_size), activation='relu',\n",
        "               padding='same', return_sequences=True),\n",
        "    BatchNormalization(),\n",
        "\n",
        "\n",
        "    # Add a Conv3D layer to reduce the temporal dimension to 1\n",
        "    Conv3D(filters=1, kernel_size=(kernel_size, kernel_size, kernel_size), activation='sigmoid',\n",
        "           padding='same', data_format='channels_last')\n",
        "])\n",
        "\n",
        "\n",
        "model.compile(optimizer=Adam(learning_rate=0.001), loss='mse', metrics=['mae'])\n",
        "model.summary()"
      ]
    },
    {
      "cell_type": "code",
      "execution_count": null,
      "id": "a5a375e5",
      "metadata": {
        "execution": {
          "iopub.execute_input": "2025-04-30T15:34:32.442661Z",
          "iopub.status.busy": "2025-04-30T15:34:32.442177Z",
          "iopub.status.idle": "2025-04-30T16:50:38.052745Z",
          "shell.execute_reply": "2025-04-30T16:50:38.052041Z"
        },
        "id": "a5a375e5",
        "outputId": "0e41cfdb-287c-4817-e6f5-f9838abef534",
        "papermill": {
          "duration": 4565.621641,
          "end_time": "2025-04-30T16:50:38.054272",
          "exception": false,
          "start_time": "2025-04-30T15:34:32.432631",
          "status": "completed"
        },
        "tags": []
      },
      "outputs": [
        {
          "name": "stdout",
          "output_type": "stream",
          "text": [
            "Epoch 1/64\n",
            "\u001b[1m140/140\u001b[0m \u001b[32m━━━━━━━━━━━━━━━━━━━━\u001b[0m\u001b[37m\u001b[0m \u001b[1m82s\u001b[0m 491ms/step - loss: 0.0292 - mae: 0.0857 - val_loss: 0.2594 - val_mae: 0.4612\n",
            "Epoch 2/64\n",
            "\u001b[1m140/140\u001b[0m \u001b[32m━━━━━━━━━━━━━━━━━━━━\u001b[0m\u001b[37m\u001b[0m \u001b[1m71s\u001b[0m 509ms/step - loss: 3.6453e-05 - mae: 0.0050 - val_loss: 0.1300 - val_mae: 0.2673\n",
            "Epoch 3/64\n",
            "\u001b[1m140/140\u001b[0m \u001b[32m━━━━━━━━━━━━━━━━━━━━\u001b[0m\u001b[37m\u001b[0m \u001b[1m71s\u001b[0m 506ms/step - loss: 2.1435e-05 - mae: 0.0036 - val_loss: 0.0319 - val_mae: 0.1027\n",
            "Epoch 4/64\n",
            "\u001b[1m140/140\u001b[0m \u001b[32m━━━━━━━━━━━━━━━━━━━━\u001b[0m\u001b[37m\u001b[0m \u001b[1m71s\u001b[0m 506ms/step - loss: 1.5327e-05 - mae: 0.0028 - val_loss: 0.0012 - val_mae: 0.0174\n",
            "Epoch 5/64\n",
            "\u001b[1m140/140\u001b[0m \u001b[32m━━━━━━━━━━━━━━━━━━━━\u001b[0m\u001b[37m\u001b[0m \u001b[1m71s\u001b[0m 507ms/step - loss: 1.2986e-05 - mae: 0.0024 - val_loss: 6.7642e-05 - val_mae: 0.0033\n",
            "Epoch 6/64\n",
            "\u001b[1m140/140\u001b[0m \u001b[32m━━━━━━━━━━━━━━━━━━━━\u001b[0m\u001b[37m\u001b[0m \u001b[1m71s\u001b[0m 508ms/step - loss: 1.1710e-05 - mae: 0.0021 - val_loss: 4.0381e-05 - val_mae: 0.0019\n",
            "Epoch 7/64\n",
            "\u001b[1m140/140\u001b[0m \u001b[32m━━━━━━━━━━━━━━━━━━━━\u001b[0m\u001b[37m\u001b[0m \u001b[1m71s\u001b[0m 508ms/step - loss: 1.0138e-05 - mae: 0.0019 - val_loss: 3.9186e-05 - val_mae: 0.0018\n",
            "Epoch 8/64\n",
            "\u001b[1m140/140\u001b[0m \u001b[32m━━━━━━━━━━━━━━━━━━━━\u001b[0m\u001b[37m\u001b[0m \u001b[1m71s\u001b[0m 507ms/step - loss: 9.7042e-06 - mae: 0.0017 - val_loss: 3.8884e-05 - val_mae: 0.0017\n",
            "Epoch 9/64\n",
            "\u001b[1m140/140\u001b[0m \u001b[32m━━━━━━━━━━━━━━━━━━━━\u001b[0m\u001b[37m\u001b[0m \u001b[1m71s\u001b[0m 506ms/step - loss: 9.1460e-06 - mae: 0.0015 - val_loss: 3.8599e-05 - val_mae: 0.0016\n",
            "Epoch 10/64\n",
            "\u001b[1m140/140\u001b[0m \u001b[32m━━━━━━━━━━━━━━━━━━━━\u001b[0m\u001b[37m\u001b[0m \u001b[1m71s\u001b[0m 507ms/step - loss: 9.1689e-06 - mae: 0.0014 - val_loss: 3.8370e-05 - val_mae: 0.0015\n",
            "Epoch 11/64\n",
            "\u001b[1m140/140\u001b[0m \u001b[32m━━━━━━━━━━━━━━━━━━━━\u001b[0m\u001b[37m\u001b[0m \u001b[1m71s\u001b[0m 507ms/step - loss: 8.4315e-06 - mae: 0.0013 - val_loss: 3.8169e-05 - val_mae: 0.0014\n",
            "Epoch 12/64\n",
            "\u001b[1m140/140\u001b[0m \u001b[32m━━━━━━━━━━━━━━━━━━━━\u001b[0m\u001b[37m\u001b[0m \u001b[1m71s\u001b[0m 508ms/step - loss: 8.3525e-06 - mae: 0.0012 - val_loss: 3.8011e-05 - val_mae: 0.0013\n",
            "Epoch 13/64\n",
            "\u001b[1m140/140\u001b[0m \u001b[32m━━━━━━━━━━━━━━━━━━━━\u001b[0m\u001b[37m\u001b[0m \u001b[1m71s\u001b[0m 508ms/step - loss: 8.2398e-06 - mae: 0.0011 - val_loss: 3.7892e-05 - val_mae: 0.0013\n",
            "Epoch 14/64\n",
            "\u001b[1m140/140\u001b[0m \u001b[32m━━━━━━━━━━━━━━━━━━━━\u001b[0m\u001b[37m\u001b[0m \u001b[1m71s\u001b[0m 507ms/step - loss: 7.6383e-06 - mae: 0.0010 - val_loss: 3.7789e-05 - val_mae: 0.0012\n",
            "Epoch 15/64\n",
            "\u001b[1m140/140\u001b[0m \u001b[32m━━━━━━━━━━━━━━━━━━━━\u001b[0m\u001b[37m\u001b[0m \u001b[1m71s\u001b[0m 507ms/step - loss: 7.6173e-06 - mae: 9.8311e-04 - val_loss: 3.7706e-05 - val_mae: 0.0012\n",
            "Epoch 16/64\n",
            "\u001b[1m140/140\u001b[0m \u001b[32m━━━━━━━━━━━━━━━━━━━━\u001b[0m\u001b[37m\u001b[0m \u001b[1m71s\u001b[0m 506ms/step - loss: 7.6408e-06 - mae: 9.2876e-04 - val_loss: 3.7625e-05 - val_mae: 0.0011\n",
            "Epoch 17/64\n",
            "\u001b[1m140/140\u001b[0m \u001b[32m━━━━━━━━━━━━━━━━━━━━\u001b[0m\u001b[37m\u001b[0m \u001b[1m71s\u001b[0m 506ms/step - loss: 7.8160e-06 - mae: 8.7837e-04 - val_loss: 3.7549e-05 - val_mae: 0.0011\n",
            "Epoch 18/64\n",
            "\u001b[1m140/140\u001b[0m \u001b[32m━━━━━━━━━━━━━━━━━━━━\u001b[0m\u001b[37m\u001b[0m \u001b[1m71s\u001b[0m 506ms/step - loss: 7.7698e-06 - mae: 8.3391e-04 - val_loss: 3.7486e-05 - val_mae: 0.0011\n",
            "Epoch 19/64\n",
            "\u001b[1m140/140\u001b[0m \u001b[32m━━━━━━━━━━━━━━━━━━━━\u001b[0m\u001b[37m\u001b[0m \u001b[1m71s\u001b[0m 507ms/step - loss: 6.9057e-06 - mae: 7.8771e-04 - val_loss: 3.7424e-05 - val_mae: 0.0010\n",
            "Epoch 20/64\n",
            "\u001b[1m140/140\u001b[0m \u001b[32m━━━━━━━━━━━━━━━━━━━━\u001b[0m\u001b[37m\u001b[0m \u001b[1m71s\u001b[0m 507ms/step - loss: 7.1733e-06 - mae: 7.5382e-04 - val_loss: 3.7364e-05 - val_mae: 9.8326e-04\n",
            "Epoch 21/64\n",
            "\u001b[1m140/140\u001b[0m \u001b[32m━━━━━━━━━━━━━━━━━━━━\u001b[0m\u001b[37m\u001b[0m \u001b[1m71s\u001b[0m 506ms/step - loss: 6.7216e-06 - mae: 7.1533e-04 - val_loss: 3.7298e-05 - val_mae: 9.5568e-04\n",
            "Epoch 22/64\n",
            "\u001b[1m140/140\u001b[0m \u001b[32m━━━━━━━━━━━━━━━━━━━━\u001b[0m\u001b[37m\u001b[0m \u001b[1m71s\u001b[0m 507ms/step - loss: 7.5202e-06 - mae: 6.8844e-04 - val_loss: 3.7217e-05 - val_mae: 9.2958e-04\n",
            "Epoch 23/64\n",
            "\u001b[1m140/140\u001b[0m \u001b[32m━━━━━━━━━━━━━━━━━━━━\u001b[0m\u001b[37m\u001b[0m \u001b[1m71s\u001b[0m 507ms/step - loss: 7.0250e-06 - mae: 6.5562e-04 - val_loss: 3.7129e-05 - val_mae: 9.0974e-04\n",
            "Epoch 24/64\n",
            "\u001b[1m140/140\u001b[0m \u001b[32m━━━━━━━━━━━━━━━━━━━━\u001b[0m\u001b[37m\u001b[0m \u001b[1m71s\u001b[0m 508ms/step - loss: 7.2886e-06 - mae: 6.3255e-04 - val_loss: 3.7029e-05 - val_mae: 8.9637e-04\n",
            "Epoch 25/64\n",
            "\u001b[1m140/140\u001b[0m \u001b[32m━━━━━━━━━━━━━━━━━━━━\u001b[0m\u001b[37m\u001b[0m \u001b[1m71s\u001b[0m 507ms/step - loss: 7.2360e-06 - mae: 6.0776e-04 - val_loss: 3.6932e-05 - val_mae: 8.6321e-04\n",
            "Epoch 26/64\n",
            "\u001b[1m140/140\u001b[0m \u001b[32m━━━━━━━━━━━━━━━━━━━━\u001b[0m\u001b[37m\u001b[0m \u001b[1m71s\u001b[0m 508ms/step - loss: 7.1464e-06 - mae: 5.8297e-04 - val_loss: 3.6833e-05 - val_mae: 8.4305e-04\n",
            "Epoch 27/64\n",
            "\u001b[1m140/140\u001b[0m \u001b[32m━━━━━━━━━━━━━━━━━━━━\u001b[0m\u001b[37m\u001b[0m \u001b[1m71s\u001b[0m 507ms/step - loss: 7.5743e-06 - mae: 5.6268e-04 - val_loss: 3.6752e-05 - val_mae: 8.1167e-04\n",
            "Epoch 28/64\n",
            "\u001b[1m140/140\u001b[0m \u001b[32m━━━━━━━━━━━━━━━━━━━━\u001b[0m\u001b[37m\u001b[0m \u001b[1m71s\u001b[0m 507ms/step - loss: 7.2698e-06 - mae: 5.3848e-04 - val_loss: 3.6622e-05 - val_mae: 8.1817e-04\n",
            "Epoch 29/64\n",
            "\u001b[1m140/140\u001b[0m \u001b[32m━━━━━━━━━━━━━━━━━━━━\u001b[0m\u001b[37m\u001b[0m \u001b[1m71s\u001b[0m 507ms/step - loss: 6.8619e-06 - mae: 5.1816e-04 - val_loss: 3.6596e-05 - val_mae: 7.7181e-04\n",
            "Epoch 30/64\n",
            "\u001b[1m140/140\u001b[0m \u001b[32m━━━━━━━━━━━━━━━━━━━━\u001b[0m\u001b[37m\u001b[0m \u001b[1m71s\u001b[0m 507ms/step - loss: 7.1404e-06 - mae: 4.9962e-04 - val_loss: 3.6405e-05 - val_mae: 7.5659e-04\n",
            "Epoch 31/64\n",
            "\u001b[1m140/140\u001b[0m \u001b[32m━━━━━━━━━━━━━━━━━━━━\u001b[0m\u001b[37m\u001b[0m \u001b[1m71s\u001b[0m 507ms/step - loss: 7.3542e-06 - mae: 4.8467e-04 - val_loss: 3.6319e-05 - val_mae: 7.7206e-04\n",
            "Epoch 32/64\n",
            "\u001b[1m140/140\u001b[0m \u001b[32m━━━━━━━━━━━━━━━━━━━━\u001b[0m\u001b[37m\u001b[0m \u001b[1m71s\u001b[0m 507ms/step - loss: 7.1541e-06 - mae: 4.6845e-04 - val_loss: 3.6119e-05 - val_mae: 7.6157e-04\n",
            "Epoch 33/64\n",
            "\u001b[1m140/140\u001b[0m \u001b[32m━━━━━━━━━━━━━━━━━━━━\u001b[0m\u001b[37m\u001b[0m \u001b[1m71s\u001b[0m 508ms/step - loss: 6.6787e-06 - mae: 4.4792e-04 - val_loss: 3.5998e-05 - val_mae: 7.5694e-04\n",
            "Epoch 34/64\n",
            "\u001b[1m140/140\u001b[0m \u001b[32m━━━━━━━━━━━━━━━━━━━━\u001b[0m\u001b[37m\u001b[0m \u001b[1m71s\u001b[0m 507ms/step - loss: 6.7261e-06 - mae: 4.3537e-04 - val_loss: 3.5845e-05 - val_mae: 8.0901e-04\n",
            "Epoch 35/64\n",
            "\u001b[1m140/140\u001b[0m \u001b[32m━━━━━━━━━━━━━━━━━━━━\u001b[0m\u001b[37m\u001b[0m \u001b[1m71s\u001b[0m 508ms/step - loss: 7.2562e-06 - mae: 4.2614e-04 - val_loss: 3.5804e-05 - val_mae: 7.0000e-04\n",
            "Epoch 36/64\n",
            "\u001b[1m140/140\u001b[0m \u001b[32m━━━━━━━━━━━━━━━━━━━━\u001b[0m\u001b[37m\u001b[0m \u001b[1m71s\u001b[0m 508ms/step - loss: 6.7395e-06 - mae: 4.0901e-04 - val_loss: 3.5676e-05 - val_mae: 7.3008e-04\n",
            "Epoch 37/64\n",
            "\u001b[1m140/140\u001b[0m \u001b[32m━━━━━━━━━━━━━━━━━━━━\u001b[0m\u001b[37m\u001b[0m \u001b[1m71s\u001b[0m 508ms/step - loss: 6.9386e-06 - mae: 3.9740e-04 - val_loss: 3.5472e-05 - val_mae: 7.4669e-04\n",
            "Epoch 38/64\n",
            "\u001b[1m140/140\u001b[0m \u001b[32m━━━━━━━━━━━━━━━━━━━━\u001b[0m\u001b[37m\u001b[0m \u001b[1m71s\u001b[0m 507ms/step - loss: 6.8288e-06 - mae: 3.8688e-04 - val_loss: 3.5544e-05 - val_mae: 6.6750e-04\n",
            "Epoch 39/64\n",
            "\u001b[1m140/140\u001b[0m \u001b[32m━━━━━━━━━━━━━━━━━━━━\u001b[0m\u001b[37m\u001b[0m \u001b[1m71s\u001b[0m 508ms/step - loss: 6.9126e-06 - mae: 3.7416e-04 - val_loss: 3.5389e-05 - val_mae: 6.8629e-04\n",
            "Epoch 40/64\n",
            "\u001b[1m140/140\u001b[0m \u001b[32m━━━━━━━━━━━━━━━━━━━━\u001b[0m\u001b[37m\u001b[0m \u001b[1m71s\u001b[0m 507ms/step - loss: 7.2566e-06 - mae: 3.6645e-04 - val_loss: 3.5101e-05 - val_mae: 7.4531e-04\n",
            "Epoch 41/64\n",
            "\u001b[1m140/140\u001b[0m \u001b[32m━━━━━━━━━━━━━━━━━━━━\u001b[0m\u001b[37m\u001b[0m \u001b[1m71s\u001b[0m 507ms/step - loss: 6.7466e-06 - mae: 3.5260e-04 - val_loss: 3.5203e-05 - val_mae: 8.0915e-04\n",
            "Epoch 42/64\n",
            "\u001b[1m140/140\u001b[0m \u001b[32m━━━━━━━━━━━━━━━━━━━━\u001b[0m\u001b[37m\u001b[0m \u001b[1m71s\u001b[0m 506ms/step - loss: 7.3670e-06 - mae: 3.4889e-04 - val_loss: 3.5018e-05 - val_mae: 6.1630e-04\n",
            "Epoch 43/64\n",
            "\u001b[1m140/140\u001b[0m \u001b[32m━━━━━━━━━━━━━━━━━━━━\u001b[0m\u001b[37m\u001b[0m \u001b[1m71s\u001b[0m 506ms/step - loss: 7.4981e-06 - mae: 3.3941e-04 - val_loss: 3.6508e-05 - val_mae: 7.2206e-04\n",
            "Epoch 44/64\n",
            "\u001b[1m140/140\u001b[0m \u001b[32m━━━━━━━━━━━━━━━━━━━━\u001b[0m\u001b[37m\u001b[0m \u001b[1m71s\u001b[0m 507ms/step - loss: 7.5353e-06 - mae: 3.3049e-04 - val_loss: 3.5095e-05 - val_mae: 6.1544e-04\n",
            "Epoch 45/64\n",
            "\u001b[1m140/140\u001b[0m \u001b[32m━━━━━━━━━━━━━━━━━━━━\u001b[0m\u001b[37m\u001b[0m \u001b[1m71s\u001b[0m 507ms/step - loss: 6.9020e-06 - mae: 3.1911e-04 - val_loss: 3.4527e-05 - val_mae: 6.8165e-04\n",
            "Epoch 46/64\n",
            "\u001b[1m140/140\u001b[0m \u001b[32m━━━━━━━━━━━━━━━━━━━━\u001b[0m\u001b[37m\u001b[0m \u001b[1m71s\u001b[0m 508ms/step - loss: 6.7350e-06 - mae: 3.1072e-04 - val_loss: 3.4449e-05 - val_mae: 6.3411e-04\n",
            "Epoch 47/64\n",
            "\u001b[1m140/140\u001b[0m \u001b[32m━━━━━━━━━━━━━━━━━━━━\u001b[0m\u001b[37m\u001b[0m \u001b[1m71s\u001b[0m 509ms/step - loss: 6.8671e-06 - mae: 3.0193e-04 - val_loss: 3.3671e-05 - val_mae: 6.8684e-04\n",
            "Epoch 48/64\n",
            "\u001b[1m140/140\u001b[0m \u001b[32m━━━━━━━━━━━━━━━━━━━━\u001b[0m\u001b[37m\u001b[0m \u001b[1m71s\u001b[0m 507ms/step - loss: 6.1935e-06 - mae: 2.9036e-04 - val_loss: 3.5351e-05 - val_mae: 6.3787e-04\n",
            "Epoch 49/64\n",
            "\u001b[1m140/140\u001b[0m \u001b[32m━━━━━━━━━━━━━━━━━━━━\u001b[0m\u001b[37m\u001b[0m \u001b[1m71s\u001b[0m 507ms/step - loss: 7.1448e-06 - mae: 2.9193e-04 - val_loss: 3.3509e-05 - val_mae: 7.3999e-04\n",
            "Epoch 50/64\n",
            "\u001b[1m140/140\u001b[0m \u001b[32m━━━━━━━━━━━━━━━━━━━━\u001b[0m\u001b[37m\u001b[0m \u001b[1m71s\u001b[0m 507ms/step - loss: 6.9600e-06 - mae: 2.8513e-04 - val_loss: 3.3761e-05 - val_mae: 6.1063e-04\n",
            "Epoch 51/64\n",
            "\u001b[1m140/140\u001b[0m \u001b[32m━━━━━━━━━━━━━━━━━━━━\u001b[0m\u001b[37m\u001b[0m \u001b[1m71s\u001b[0m 507ms/step - loss: 6.5835e-06 - mae: 2.7828e-04 - val_loss: 3.3446e-05 - val_mae: 6.5412e-04\n",
            "Epoch 52/64\n",
            "\u001b[1m140/140\u001b[0m \u001b[32m━━━━━━━━━━━━━━━━━━━━\u001b[0m\u001b[37m\u001b[0m \u001b[1m71s\u001b[0m 508ms/step - loss: 6.6666e-06 - mae: 2.7342e-04 - val_loss: 3.3759e-05 - val_mae: 5.0168e-04\n",
            "Epoch 53/64\n",
            "\u001b[1m140/140\u001b[0m \u001b[32m━━━━━━━━━━━━━━━━━━━━\u001b[0m\u001b[37m\u001b[0m \u001b[1m71s\u001b[0m 508ms/step - loss: 6.8640e-06 - mae: 2.6229e-04 - val_loss: 3.3086e-05 - val_mae: 6.3764e-04\n",
            "Epoch 54/64\n",
            "\u001b[1m140/140\u001b[0m \u001b[32m━━━━━━━━━━━━━━━━━━━━\u001b[0m\u001b[37m\u001b[0m \u001b[1m71s\u001b[0m 508ms/step - loss: 6.7162e-06 - mae: 2.6299e-04 - val_loss: 3.5244e-05 - val_mae: 5.0636e-04\n",
            "Epoch 55/64\n",
            "\u001b[1m140/140\u001b[0m \u001b[32m━━━━━━━━━━━━━━━━━━━━\u001b[0m\u001b[37m\u001b[0m \u001b[1m71s\u001b[0m 507ms/step - loss: 6.9300e-06 - mae: 2.5685e-04 - val_loss: 3.4871e-05 - val_mae: 6.7597e-04\n",
            "Epoch 56/64\n",
            "\u001b[1m140/140\u001b[0m \u001b[32m━━━━━━━━━━━━━━━━━━━━\u001b[0m\u001b[37m\u001b[0m \u001b[1m71s\u001b[0m 507ms/step - loss: 6.8286e-06 - mae: 2.4942e-04 - val_loss: 3.4740e-05 - val_mae: 4.2058e-04\n",
            "Epoch 57/64\n",
            "\u001b[1m140/140\u001b[0m \u001b[32m━━━━━━━━━━━━━━━━━━━━\u001b[0m\u001b[37m\u001b[0m \u001b[1m71s\u001b[0m 507ms/step - loss: 6.6420e-06 - mae: 2.5605e-04 - val_loss: 3.4136e-05 - val_mae: 5.4477e-04\n",
            "Epoch 58/64\n",
            "\u001b[1m140/140\u001b[0m \u001b[32m━━━━━━━━━━━━━━━━━━━━\u001b[0m\u001b[37m\u001b[0m \u001b[1m71s\u001b[0m 507ms/step - loss: 6.4489e-06 - mae: 2.3685e-04 - val_loss: 3.2539e-05 - val_mae: 6.8482e-04\n",
            "Epoch 59/64\n",
            "\u001b[1m140/140\u001b[0m \u001b[32m━━━━━━━━━━━━━━━━━━━━\u001b[0m\u001b[37m\u001b[0m \u001b[1m71s\u001b[0m 507ms/step - loss: 7.0555e-06 - mae: 2.3705e-04 - val_loss: 3.4368e-05 - val_mae: 4.6129e-04\n",
            "Epoch 60/64\n",
            "\u001b[1m140/140\u001b[0m \u001b[32m━━━━━━━━━━━━━━━━━━━━\u001b[0m\u001b[37m\u001b[0m \u001b[1m71s\u001b[0m 506ms/step - loss: 7.0778e-06 - mae: 2.3208e-04 - val_loss: 3.5070e-05 - val_mae: 4.6093e-04\n",
            "Epoch 61/64\n",
            "\u001b[1m140/140\u001b[0m \u001b[32m━━━━━━━━━━━━━━━━━━━━\u001b[0m\u001b[37m\u001b[0m \u001b[1m71s\u001b[0m 507ms/step - loss: 6.5941e-06 - mae: 2.2666e-04 - val_loss: 3.4048e-05 - val_mae: 5.8986e-04\n",
            "Epoch 62/64\n",
            "\u001b[1m140/140\u001b[0m \u001b[32m━━━━━━━━━━━━━━━━━━━━\u001b[0m\u001b[37m\u001b[0m \u001b[1m71s\u001b[0m 507ms/step - loss: 6.6011e-06 - mae: 2.2586e-04 - val_loss: 3.4247e-05 - val_mae: 4.2190e-04\n",
            "Epoch 63/64\n",
            "\u001b[1m140/140\u001b[0m \u001b[32m━━━━━━━━━━━━━━━━━━━━\u001b[0m\u001b[37m\u001b[0m \u001b[1m71s\u001b[0m 506ms/step - loss: 7.1287e-06 - mae: 2.2116e-04 - val_loss: 3.2392e-05 - val_mae: 6.5254e-04\n",
            "Epoch 64/64\n",
            "\u001b[1m140/140\u001b[0m \u001b[32m━━━━━━━━━━━━━━━━━━━━\u001b[0m\u001b[37m\u001b[0m \u001b[1m71s\u001b[0m 508ms/step - loss: 6.9676e-06 - mae: 2.1349e-04 - val_loss: 3.6711e-05 - val_mae: 4.6115e-04\n"
          ]
        }
      ],
      "source": [
        "from tensorflow.keras.callbacks import ModelCheckpoint, EarlyStopping\n",
        "\n",
        "checkpoint_callback = ModelCheckpoint(\n",
        "    filepath='ConvLSTM.keras',\n",
        "    monitor='val_loss',\n",
        "    mode='min',\n",
        "    save_best_only=True,\n",
        "    verbose=1\n",
        ")\n",
        "\n",
        "early_stopping = EarlyStopping(\n",
        "    monitor='val_loss',\n",
        "    patience=15,\n",
        "    restore_best_weights=True\n",
        ")\n",
        "\n",
        "history = model.fit(X_train, y_train, epochs=epochs, batch_size=batch_size, validation_data=(X_test, y_test), callbacks=[early_stopping])\n",
        "# test_loss, test_mae = model.evaluate(X_test, y_test)\n",
        "# print(f\"Test MAE: {test_mae}\")"
      ]
    },
    {
      "cell_type": "code",
      "execution_count": null,
      "id": "19e7b833",
      "metadata": {
        "execution": {
          "iopub.execute_input": "2025-04-30T16:50:39.071336Z",
          "iopub.status.busy": "2025-04-30T16:50:39.070958Z",
          "iopub.status.idle": "2025-04-30T16:50:46.936714Z",
          "shell.execute_reply": "2025-04-30T16:50:46.935489Z"
        },
        "id": "19e7b833",
        "outputId": "626ad125-6190-462f-959e-62689e41d06a",
        "papermill": {
          "duration": 8.368995,
          "end_time": "2025-04-30T16:50:46.938316",
          "exception": false,
          "start_time": "2025-04-30T16:50:38.569321",
          "status": "completed"
        },
        "tags": []
      },
      "outputs": [
        {
          "name": "stdout",
          "output_type": "stream",
          "text": [
            "\u001b[1m18/18\u001b[0m \u001b[32m━━━━━━━━━━━━━━━━━━━━\u001b[0m\u001b[37m\u001b[0m \u001b[1m7s\u001b[0m 297ms/step\n",
            "MAE: 0.0006\n",
            "MSE: 0.0000\n",
            "RMSE: 0.0055\n",
            "R² Score: 0.1365\n"
          ]
        }
      ],
      "source": [
        "y_pred = model.predict(X_test)\n",
        "from sklearn.metrics import mean_squared_error, mean_absolute_error, r2_score\n",
        "import numpy as np\n",
        "\n",
        "mse = mean_squared_error(y_test.reshape(-1), y_pred.reshape(-1))\n",
        "mae = mean_absolute_error(y_test.reshape(-1), y_pred.reshape(-1))\n",
        "rmse = np.sqrt(mse)\n",
        "r2 = r2_score(y_test.reshape(-1), y_pred.reshape(-1))\n",
        "\n",
        "print(f\"MAE: {mae:.4f}\")\n",
        "print(f\"MSE: {mse:.4f}\")\n",
        "print(f\"RMSE: {rmse:.4f}\")\n",
        "print(f\"R² Score: {r2:.4f}\")"
      ]
    },
    {
      "cell_type": "code",
      "execution_count": null,
      "id": "8a46e26d",
      "metadata": {
        "execution": {
          "iopub.execute_input": "2025-04-30T16:50:47.931248Z",
          "iopub.status.busy": "2025-04-30T16:50:47.930636Z",
          "iopub.status.idle": "2025-04-30T16:50:48.555209Z",
          "shell.execute_reply": "2025-04-30T16:50:48.554348Z"
        },
        "id": "8a46e26d",
        "outputId": "aaf1723a-cbb4-4daa-dea8-b8bf36aae444",
        "papermill": {
          "duration": 1.132268,
          "end_time": "2025-04-30T16:50:48.556597",
          "exception": false,
          "start_time": "2025-04-30T16:50:47.424329",
          "status": "completed"
        },
        "tags": []
      },
      "outputs": [
        {
          "name": "stdout",
          "output_type": "stream",
          "text": [
            "\u001b[1m1/1\u001b[0m \u001b[32m━━━━━━━━━━━━━━━━━━━━\u001b[0m\u001b[37m\u001b[0m \u001b[1m0s\u001b[0m 230ms/step\n"
          ]
        },
        {
          "data": {
            "image/png": "[encoded data removed]",
            "text/plain": [
              "<Figure size 1000x500 with 1 Axes>"
            ]
          },
          "metadata": {},
          "output_type": "display_data"
        }
      ],
      "source": [
        "import matplotlib.pyplot as plt\n",
        "\n",
        "# Assuming y_test and y_pred are in shape (2807, 90, 250, 1)\n",
        "y_pred = model.predict(X_test[:1])\n",
        "\n",
        "# Reshape y_test and y_pred to (2807, 90 * 250)\n",
        "y_test_flat = y_test[:1].reshape(-1)\n",
        "y_pred_flat = y_pred.reshape(-1)\n",
        "\n",
        "# Plot the actual vs predicted\n",
        "plt.figure(figsize=(10, 5))\n",
        "plt.plot(y_test_flat, label=\"Actual\")\n",
        "plt.plot(y_pred_flat, label=\"Predicted\", linestyle=\"dashed\")\n",
        "plt.legend()\n",
        "plt.title(\"Actual vs Predicted\")\n",
        "plt.show()\n"
      ]
    }
  ],
  "metadata": {
    "colab": {
      "provenance": []
    },
    "kaggle": {
      "accelerator": "nvidiaTeslaT4",
      "dataSources": [
        {
          "datasetId": 6891645,
          "sourceId": 11060838,
          "sourceType": "datasetVersion"
        }
      ],
      "dockerImageVersionId": 30919,
      "isGpuEnabled": true,
      "isInternetEnabled": true,
      "language": "python",
      "sourceType": "notebook"
    },
    "kernelspec": {
      "display_name": "Python 3",
      "language": "python",
      "name": "python3"
    },
    "language_info": {
      "codemirror_mode": {
        "name": "ipython",
        "version": 3
      },
      "file_extension": ".py",
      "mimetype": "text/x-python",
      "name": "python",
      "nbconvert_exporter": "python",
      "pygments_lexer": "ipython3",
      "version": "3.10.12"
    },
    "papermill": {
      "default_parameters": {},
      "duration": 4611.747123,
      "end_time": "2025-04-30T16:50:54.698307",
      "environment_variables": {},
      "exception": null,
      "input_path": "__notebook__.ipynb",
      "output_path": "__notebook__.ipynb",
      "parameters": {},
      "start_time": "2025-04-30T15:34:02.951184",
      "version": "2.6.0"
    }
  },
  "nbformat": 4,
  "nbformat_minor": 5
}
