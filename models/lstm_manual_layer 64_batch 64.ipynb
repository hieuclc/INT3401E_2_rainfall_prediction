{
 "cells": [
  {
   "cell_type": "code",
   "execution_count": 1,
   "id": "9569e0a8",
   "metadata": {
    "execution": {
     "iopub.execute_input": "2025-05-02T09:30:30.038352Z",
     "iopub.status.busy": "2025-05-02T09:30:30.038133Z",
     "iopub.status.idle": "2025-05-02T09:30:30.043729Z",
     "shell.execute_reply": "2025-05-02T09:30:30.043056Z"
    },
    "papermill": {
     "duration": 0.011819,
     "end_time": "2025-05-02T09:30:30.044877",
     "exception": false,
     "start_time": "2025-05-02T09:30:30.033058",
     "status": "completed"
    },
    "tags": []
   },
   "outputs": [],
   "source": [
    "# Thay đổi batch_size, 32 - 64 - 128 - 256 - 512\n",
    "# Thay đổi layers của lstm, 32 - 64 - 128 - 256\n",
    "\n",
    "lstm_layers = 64\n",
    "batch_size = 64"
   ]
  },
  {
   "cell_type": "code",
   "execution_count": 2,
   "id": "cef85186",
   "metadata": {
    "execution": {
     "iopub.execute_input": "2025-05-02T09:30:30.053295Z",
     "iopub.status.busy": "2025-05-02T09:30:30.052823Z",
     "iopub.status.idle": "2025-05-02T09:30:39.950622Z",
     "shell.execute_reply": "2025-05-02T09:30:39.949681Z"
    },
    "papermill": {
     "duration": 9.903247,
     "end_time": "2025-05-02T09:30:39.951992",
     "exception": false,
     "start_time": "2025-05-02T09:30:30.048745",
     "status": "completed"
    },
    "tags": []
   },
   "outputs": [
    {
     "name": "stdout",
     "output_type": "stream",
     "text": [
      "Downloading...\r\n",
      "From: https://drive.google.com/uc?id=115b2vVHryiPFOPYRumGBDIpx5dT_vH7R\r\n",
      "To: /kaggle/working/aws_rainfall_all.parquet\r\n",
      "100%|██████████████████████████████████████| 50.6M/50.6M [00:01<00:00, 39.6MB/s]\r\n"
     ]
    }
   ],
   "source": [
    "!pip install -q gdown\n",
    "!gdown 115b2vVHryiPFOPYRumGBDIpx5dT_vH7R\n",
    "# !gdown 1v_aPFnEk0_3nHy3bDwUlYMAmrQHCX4RY"
   ]
  },
  {
   "cell_type": "code",
   "execution_count": null,
   "id": "287bee25",
   "metadata": {
    "papermill": {
     "duration": 0.003794,
     "end_time": "2025-05-02T09:30:39.960359",
     "exception": false,
     "start_time": "2025-05-02T09:30:39.956565",
     "status": "completed"
    },
    "tags": []
   },
   "outputs": [],
   "source": []
  },
  {
   "cell_type": "code",
   "execution_count": 3,
   "id": "faa706f1",
   "metadata": {
    "_cell_guid": "b1076dfc-b9ad-4769-8c92-a6c4dae69d19",
    "_uuid": "8f2839f25d086af736a60e9eeb907d3b93b6e0e5",
    "execution": {
     "iopub.execute_input": "2025-05-02T09:30:39.968816Z",
     "iopub.status.busy": "2025-05-02T09:30:39.968598Z",
     "iopub.status.idle": "2025-05-02T09:30:41.678689Z",
     "shell.execute_reply": "2025-05-02T09:30:41.677669Z"
    },
    "papermill": {
     "duration": 1.716271,
     "end_time": "2025-05-02T09:30:41.680342",
     "exception": false,
     "start_time": "2025-05-02T09:30:39.964071",
     "status": "completed"
    },
    "tags": []
   },
   "outputs": [],
   "source": [
    "import pandas as pd\n",
    "from tqdm import tqdm\n",
    "import gc\n",
    "import numpy as np\n",
    "\n",
    "pd.set_option(\"mode.chained_assignment\", None)  # Disable caching\n",
    "pd.options.display.memory_usage = False  # Reduce memory prints\n",
    "gc.collect()\n",
    "\n",
    "df = pd.read_parquet(\"/kaggle/working/aws_rainfall_all.parquet\")"
   ]
  },
  {
   "cell_type": "code",
   "execution_count": 4,
   "id": "4e8c12ad",
   "metadata": {
    "execution": {
     "iopub.execute_input": "2025-05-02T09:30:41.693783Z",
     "iopub.status.busy": "2025-05-02T09:30:41.692933Z",
     "iopub.status.idle": "2025-05-02T09:30:43.105374Z",
     "shell.execute_reply": "2025-05-02T09:30:43.104818Z"
    },
    "papermill": {
     "duration": 1.421057,
     "end_time": "2025-05-02T09:30:43.106727",
     "exception": false,
     "start_time": "2025-05-02T09:30:41.685670",
     "status": "completed"
    },
    "tags": []
   },
   "outputs": [],
   "source": [
    "def calculate_optimum_alpha(data):\n",
    "    X_max = np.max(data)\n",
    "    X_min = np.min(data)\n",
    "    X_mean = np.mean(data)\n",
    "    return ((X_max - X_min) - X_mean) / (X_max - X_min) if (X_max - X_min) != 0 else 0.5\n",
    "\n",
    "def exponential_smoothing(data, alpha = 0.2):\n",
    "    smoothed = np.zeros_like(data)\n",
    "    smoothed[0] = data[0]\n",
    "    for t in range(1, len(data)):\n",
    "        smoothed[t] = alpha * data[t] + (1 - alpha) * smoothed[t-1]\n",
    "    return smoothed\n",
    "\n",
    "corr_matrix = df.corr()\n",
    "\n",
    "threshold = 0.05  # Set your desired threshold\n",
    "\n",
    "high_corr_features = corr_matrix[\"aws_rainfall\"][abs(corr_matrix[\"aws_rainfall\"]) > threshold].index.tolist()\n",
    "\n",
    "high_corr_features = [i for i in high_corr_features if i not in [\"Datetime\", \"Row\", \"Col\"]]\n",
    "\n",
    "def extract_to_numpy(df, n_steps = 6):\n",
    "    feature_cols = high_corr_features\n",
    "    X = []\n",
    "    y = []\n",
    "    positions = []\n",
    "    for (row, col), group in tqdm(df.groupby([\"Row\", \"Col\"]), desc=\"Processing groups\", unit=\"group\"):\n",
    "        group = group.sort_values(\"Datetime\")\n",
    "        group_values = group[feature_cols].values\n",
    "        original_rainfall_values = group['aws_rainfall'].values\n",
    "        alpha = calculate_optimum_alpha(original_rainfall_values)\n",
    "        # alpha = 0.5\n",
    "        rainfall_values = exponential_smoothing(original_rainfall_values, alpha)\n",
    "        for i in range(n_steps, len(group_values)):\n",
    "            if(len(group_values) < n_steps):\n",
    "                break\n",
    "            X.append(group_values[i - n_steps:i])\n",
    "            y.append(rainfall_values[i])\n",
    "            positions.append((row, col, group.iloc[i][\"Datetime\"]))\n",
    "    return np.array(X), np.array(y), np.array(positions)"
   ]
  },
  {
   "cell_type": "code",
   "execution_count": 5,
   "id": "634a5feb",
   "metadata": {
    "execution": {
     "iopub.execute_input": "2025-05-02T09:30:43.116044Z",
     "iopub.status.busy": "2025-05-02T09:30:43.115393Z",
     "iopub.status.idle": "2025-05-02T09:30:46.389927Z",
     "shell.execute_reply": "2025-05-02T09:30:46.389095Z"
    },
    "papermill": {
     "duration": 3.280675,
     "end_time": "2025-05-02T09:30:46.391550",
     "exception": false,
     "start_time": "2025-05-02T09:30:43.110875",
     "status": "completed"
    },
    "tags": []
   },
   "outputs": [],
   "source": [
    "from sklearn.impute import KNNImputer\n",
    "from sklearn.preprocessing import StandardScaler\n",
    "\n",
    "columns = [i for i in high_corr_features if i != \"aws_rainfall\"]\n",
    "df_feat = df[columns].replace([9999, np.inf, -np.inf], np.nan)\n",
    "\n",
    "scaler = StandardScaler()\n",
    "df_feat_scaled = pd.DataFrame(scaler.fit_transform(df_feat), columns = columns)\n",
    "\n",
    "imputer = KNNImputer(n_neighbors = 5, weights = \"distance\")\n",
    "df_feat_imputed_scaled = pd.DataFrame(imputer.fit_transform(df_feat_scaled), columns = columns)\n",
    "\n",
    "df_feat_imputed = pd.DataFrame(scaler.inverse_transform(df_feat_imputed_scaled), columns = columns)"
   ]
  },
  {
   "cell_type": "code",
   "execution_count": 6,
   "id": "7271aa2c",
   "metadata": {
    "execution": {
     "iopub.execute_input": "2025-05-02T09:30:46.403151Z",
     "iopub.status.busy": "2025-05-02T09:30:46.402558Z",
     "iopub.status.idle": "2025-05-02T09:30:46.442753Z",
     "shell.execute_reply": "2025-05-02T09:30:46.441965Z"
    },
    "papermill": {
     "duration": 0.047187,
     "end_time": "2025-05-02T09:30:46.444111",
     "exception": false,
     "start_time": "2025-05-02T09:30:46.396924",
     "status": "completed"
    },
    "tags": []
   },
   "outputs": [],
   "source": [
    "new_df = pd.concat([df[[\"Datetime\", \"Row\", \"Col\", \"aws_rainfall\"]], df_feat_imputed], axis=1)\n",
    "del df_feat, df_feat_scaled, df_feat_imputed_scaled, df_feat_imputed"
   ]
  },
  {
   "cell_type": "code",
   "execution_count": 7,
   "id": "2ebc83d0",
   "metadata": {
    "execution": {
     "iopub.execute_input": "2025-05-02T09:30:46.452904Z",
     "iopub.status.busy": "2025-05-02T09:30:46.452688Z",
     "iopub.status.idle": "2025-05-02T09:30:46.457354Z",
     "shell.execute_reply": "2025-05-02T09:30:46.456683Z"
    },
    "papermill": {
     "duration": 0.010255,
     "end_time": "2025-05-02T09:30:46.458531",
     "exception": false,
     "start_time": "2025-05-02T09:30:46.448276",
     "status": "completed"
    },
    "tags": []
   },
   "outputs": [],
   "source": [
    "def data_smoothing(df):\n",
    "    feature_cols = [col for col in df.columns if col not in [\"Row\", \"Col\", \"Datetime\", \"aws_rainfall\", \"smoothed_rainfall\"]]\n",
    "    \n",
    "    for (row, col), group in tqdm(df.groupby([\"Row\", \"Col\"]), desc=\"Processing groups\", unit=\"group\"):\n",
    "        group = group.sort_values(\"Datetime\")\n",
    "        original_rainfall_values = group['aws_rainfall'].values\n",
    "        alpha = calculate_optimum_alpha(original_rainfall_values)\n",
    "        alpha = 0.5\n",
    "        rainfall_values = exponential_smoothing(original_rainfall_values, alpha)\n",
    "        \n",
    "        # Update smoothed rainfall values back to the DataFrame\n",
    "        df.loc[group.index, 'smoothed_rainfall'] = rainfall_values\n",
    "    \n",
    "    return df"
   ]
  },
  {
   "cell_type": "code",
   "execution_count": 8,
   "id": "1a70727b",
   "metadata": {
    "execution": {
     "iopub.execute_input": "2025-05-02T09:30:46.467263Z",
     "iopub.status.busy": "2025-05-02T09:30:46.466752Z",
     "iopub.status.idle": "2025-05-02T09:30:50.987382Z",
     "shell.execute_reply": "2025-05-02T09:30:50.986574Z"
    },
    "papermill": {
     "duration": 4.526107,
     "end_time": "2025-05-02T09:30:50.988571",
     "exception": false,
     "start_time": "2025-05-02T09:30:46.462464",
     "status": "completed"
    },
    "tags": []
   },
   "outputs": [
    {
     "name": "stderr",
     "output_type": "stream",
     "text": [
      "Processing groups: 100%|██████████| 334/334 [00:03<00:00, 87.86group/s]\n"
     ]
    }
   ],
   "source": [
    "new_df = data_smoothing(new_df)"
   ]
  },
  {
   "cell_type": "code",
   "execution_count": 9,
   "id": "e349aeb7",
   "metadata": {
    "execution": {
     "iopub.execute_input": "2025-05-02T09:30:51.000345Z",
     "iopub.status.busy": "2025-05-02T09:30:51.000115Z",
     "iopub.status.idle": "2025-05-02T09:31:51.657675Z",
     "shell.execute_reply": "2025-05-02T09:31:51.656996Z"
    },
    "papermill": {
     "duration": 60.664733,
     "end_time": "2025-05-02T09:31:51.658977",
     "exception": false,
     "start_time": "2025-05-02T09:30:50.994244",
     "status": "completed"
    },
    "tags": []
   },
   "outputs": [
    {
     "name": "stderr",
     "output_type": "stream",
     "text": [
      "Processing groups: 100%|██████████| 334/334 [00:57<00:00,  5.77group/s]\n"
     ]
    }
   ],
   "source": [
    "x, y, z = extract_to_numpy(new_df)"
   ]
  },
  {
   "cell_type": "code",
   "execution_count": 10,
   "id": "4ef6fffe",
   "metadata": {
    "execution": {
     "iopub.execute_input": "2025-05-02T09:31:51.709860Z",
     "iopub.status.busy": "2025-05-02T09:31:51.709012Z",
     "iopub.status.idle": "2025-05-02T09:31:51.713852Z",
     "shell.execute_reply": "2025-05-02T09:31:51.712890Z"
    },
    "papermill": {
     "duration": 0.032561,
     "end_time": "2025-05-02T09:31:51.715280",
     "exception": false,
     "start_time": "2025-05-02T09:31:51.682719",
     "status": "completed"
    },
    "tags": []
   },
   "outputs": [
    {
     "name": "stdout",
     "output_type": "stream",
     "text": [
      "Shape of X: (935534, 6, 13)\n",
      "Shape of y: (935534,)\n",
      "Shape of positions: (935534, 3)\n"
     ]
    }
   ],
   "source": [
    "print(\"Shape of X:\", x.shape)\n",
    "print(\"Shape of y:\", y.shape)\n",
    "print(\"Shape of positions:\", z.shape)"
   ]
  },
  {
   "cell_type": "code",
   "execution_count": 11,
   "id": "2480f970",
   "metadata": {
    "execution": {
     "iopub.execute_input": "2025-05-02T09:31:51.759970Z",
     "iopub.status.busy": "2025-05-02T09:31:51.759407Z",
     "iopub.status.idle": "2025-05-02T09:31:53.472743Z",
     "shell.execute_reply": "2025-05-02T09:31:53.472125Z"
    },
    "papermill": {
     "duration": 1.735869,
     "end_time": "2025-05-02T09:31:53.474014",
     "exception": false,
     "start_time": "2025-05-02T09:31:51.738145",
     "status": "completed"
    },
    "tags": []
   },
   "outputs": [],
   "source": [
    "from sklearn.model_selection import train_test_split\n",
    "from sklearn.preprocessing import MinMaxScaler\n",
    "import numpy as np\n",
    "\n",
    "# Initialize scalers\n",
    "rainfall_scaler = MinMaxScaler()  # For past rainfall (first feature) & y\n",
    "features_scaler = MinMaxScaler()  # For other features\n",
    "\n",
    "# Fit rainfall scaler on both past rainfall and y\n",
    "rainfall_scaler.fit(np.concatenate([y.reshape(-1, 1), x[:, :, 0].reshape(-1, 1)]))\n",
    "\n",
    "# Transform y\n",
    "y_scaled = rainfall_scaler.transform(y.reshape(-1, 1)).flatten()\n",
    "\n",
    "# Copy x to avoid modifying original data\n",
    "x_scaled = np.copy(x)\n",
    "\n",
    "# Scale only the first feature (past rainfall) using rainfall_scaler\n",
    "x_scaled[:, :, 0] = rainfall_scaler.transform(x[:, :, 0].reshape(-1, 1)).reshape(x.shape[0], x.shape[1])\n",
    "\n",
    "# Get the actual number of features dynamically\n",
    "num_features = x.shape[2] - 1  # Exclude the first feature\n",
    "\n",
    "# Scale the remaining features\n",
    "x_scaled[:, :, 1:] = features_scaler.fit_transform(x[:, :, 1:].reshape(-1, num_features)).reshape(x.shape[0], x.shape[1], num_features)\n",
    "\n",
    "# Function to inverse transform y predictions\n",
    "def inverse_transform_y(y_pred_scaled):\n",
    "    return rainfall_scaler.inverse_transform(y_pred_scaled.reshape(-1, 1)).flatten()\n",
    "\n",
    "# Train-test split\n",
    "# X_train, X_test, y_train, y_test, z_train, z_test = train_test_split(x_scaled, y_scaled, z, test_size=0.2, random_state=42)\n",
    "\n",
    "split_index = int(len(x_scaled) * 0.8)  \n",
    "\n",
    "# Training set (first 80%)\n",
    "X_train, y_train, z_train = x_scaled[:split_index], y_scaled[:split_index], z[:split_index]\n",
    "\n",
    "# Testing set (last 20%)\n",
    "X_test, y_test, z_test = x_scaled[split_index:], y_scaled[split_index:], z[split_index:]\n",
    "\n",
    "# Reshape z_train and z_test\n",
    "z_train = z_train.reshape(-1, 3)\n",
    "z_test = z_test.reshape(-1, 3)\n",
    "\n",
    "# Ensure y_train and y_test remain 1D\n",
    "y_train = y_train.flatten()\n",
    "y_test = y_test.flatten()\n"
   ]
  },
  {
   "cell_type": "code",
   "execution_count": 12,
   "id": "fa0e4e1b",
   "metadata": {
    "execution": {
     "iopub.execute_input": "2025-05-02T09:31:53.511200Z",
     "iopub.status.busy": "2025-05-02T09:31:53.510761Z",
     "iopub.status.idle": "2025-05-02T09:32:07.697504Z",
     "shell.execute_reply": "2025-05-02T09:32:07.696784Z"
    },
    "papermill": {
     "duration": 14.206774,
     "end_time": "2025-05-02T09:32:07.698623",
     "exception": false,
     "start_time": "2025-05-02T09:31:53.491849",
     "status": "completed"
    },
    "tags": []
   },
   "outputs": [
    {
     "name": "stderr",
     "output_type": "stream",
     "text": [
      "2025-05-02 09:31:55.201623: E external/local_xla/xla/stream_executor/cuda/cuda_fft.cc:477] Unable to register cuFFT factory: Attempting to register factory for plugin cuFFT when one has already been registered\n",
      "WARNING: All log messages before absl::InitializeLog() is called are written to STDERR\n",
      "E0000 00:00:1746178315.405438      18 cuda_dnn.cc:8310] Unable to register cuDNN factory: Attempting to register factory for plugin cuDNN when one has already been registered\n",
      "E0000 00:00:1746178315.455906      18 cuda_blas.cc:1418] Unable to register cuBLAS factory: Attempting to register factory for plugin cuBLAS when one has already been registered\n",
      "I0000 00:00:1746178326.337590      18 gpu_device.cc:2022] Created device /job:localhost/replica:0/task:0/device:GPU:0 with 15513 MB memory:  -> device: 0, name: Tesla P100-PCIE-16GB, pci bus id: 0000:00:04.0, compute capability: 6.0\n",
      "/usr/local/lib/python3.11/dist-packages/keras/src/layers/rnn/rnn.py:204: UserWarning: Do not pass an `input_shape`/`input_dim` argument to a layer. When using Sequential models, prefer using an `Input(shape)` object as the first layer in the model instead.\n",
      "  super().__init__(**kwargs)\n"
     ]
    },
    {
     "data": {
      "text/html": [
       "<pre style=\"white-space:pre;overflow-x:auto;line-height:normal;font-family:Menlo,'DejaVu Sans Mono',consolas,'Courier New',monospace\"><span style=\"font-weight: bold\">Model: \"sequential\"</span>\n",
       "</pre>\n"
      ],
      "text/plain": [
       "\u001b[1mModel: \"sequential\"\u001b[0m\n"
      ]
     },
     "metadata": {},
     "output_type": "display_data"
    },
    {
     "data": {
      "text/html": [
       "<pre style=\"white-space:pre;overflow-x:auto;line-height:normal;font-family:Menlo,'DejaVu Sans Mono',consolas,'Courier New',monospace\">┏━━━━━━━━━━━━━━━━━━━━━━━━━━━━━━━━━━━━━━┳━━━━━━━━━━━━━━━━━━━━━━━━━━━━━┳━━━━━━━━━━━━━━━━━┓\n",
       "┃<span style=\"font-weight: bold\"> Layer (type)                         </span>┃<span style=\"font-weight: bold\"> Output Shape                </span>┃<span style=\"font-weight: bold\">         Param # </span>┃\n",
       "┡━━━━━━━━━━━━━━━━━━━━━━━━━━━━━━━━━━━━━━╇━━━━━━━━━━━━━━━━━━━━━━━━━━━━━╇━━━━━━━━━━━━━━━━━┩\n",
       "│ lstm (<span style=\"color: #0087ff; text-decoration-color: #0087ff\">LSTM</span>)                          │ (<span style=\"color: #00d7ff; text-decoration-color: #00d7ff\">None</span>, <span style=\"color: #00af00; text-decoration-color: #00af00\">6</span>, <span style=\"color: #00af00; text-decoration-color: #00af00\">64</span>)               │          <span style=\"color: #00af00; text-decoration-color: #00af00\">19,968</span> │\n",
       "├──────────────────────────────────────┼─────────────────────────────┼─────────────────┤\n",
       "│ batch_normalization                  │ (<span style=\"color: #00d7ff; text-decoration-color: #00d7ff\">None</span>, <span style=\"color: #00af00; text-decoration-color: #00af00\">6</span>, <span style=\"color: #00af00; text-decoration-color: #00af00\">64</span>)               │             <span style=\"color: #00af00; text-decoration-color: #00af00\">256</span> │\n",
       "│ (<span style=\"color: #0087ff; text-decoration-color: #0087ff\">BatchNormalization</span>)                 │                             │                 │\n",
       "├──────────────────────────────────────┼─────────────────────────────┼─────────────────┤\n",
       "│ dropout (<span style=\"color: #0087ff; text-decoration-color: #0087ff\">Dropout</span>)                    │ (<span style=\"color: #00d7ff; text-decoration-color: #00d7ff\">None</span>, <span style=\"color: #00af00; text-decoration-color: #00af00\">6</span>, <span style=\"color: #00af00; text-decoration-color: #00af00\">64</span>)               │               <span style=\"color: #00af00; text-decoration-color: #00af00\">0</span> │\n",
       "├──────────────────────────────────────┼─────────────────────────────┼─────────────────┤\n",
       "│ lstm_1 (<span style=\"color: #0087ff; text-decoration-color: #0087ff\">LSTM</span>)                        │ (<span style=\"color: #00d7ff; text-decoration-color: #00d7ff\">None</span>, <span style=\"color: #00af00; text-decoration-color: #00af00\">6</span>, <span style=\"color: #00af00; text-decoration-color: #00af00\">64</span>)               │          <span style=\"color: #00af00; text-decoration-color: #00af00\">33,024</span> │\n",
       "├──────────────────────────────────────┼─────────────────────────────┼─────────────────┤\n",
       "│ batch_normalization_1                │ (<span style=\"color: #00d7ff; text-decoration-color: #00d7ff\">None</span>, <span style=\"color: #00af00; text-decoration-color: #00af00\">6</span>, <span style=\"color: #00af00; text-decoration-color: #00af00\">64</span>)               │             <span style=\"color: #00af00; text-decoration-color: #00af00\">256</span> │\n",
       "│ (<span style=\"color: #0087ff; text-decoration-color: #0087ff\">BatchNormalization</span>)                 │                             │                 │\n",
       "├──────────────────────────────────────┼─────────────────────────────┼─────────────────┤\n",
       "│ dropout_1 (<span style=\"color: #0087ff; text-decoration-color: #0087ff\">Dropout</span>)                  │ (<span style=\"color: #00d7ff; text-decoration-color: #00d7ff\">None</span>, <span style=\"color: #00af00; text-decoration-color: #00af00\">6</span>, <span style=\"color: #00af00; text-decoration-color: #00af00\">64</span>)               │               <span style=\"color: #00af00; text-decoration-color: #00af00\">0</span> │\n",
       "├──────────────────────────────────────┼─────────────────────────────┼─────────────────┤\n",
       "│ lstm_2 (<span style=\"color: #0087ff; text-decoration-color: #0087ff\">LSTM</span>)                        │ (<span style=\"color: #00d7ff; text-decoration-color: #00d7ff\">None</span>, <span style=\"color: #00af00; text-decoration-color: #00af00\">64</span>)                  │          <span style=\"color: #00af00; text-decoration-color: #00af00\">33,024</span> │\n",
       "├──────────────────────────────────────┼─────────────────────────────┼─────────────────┤\n",
       "│ batch_normalization_2                │ (<span style=\"color: #00d7ff; text-decoration-color: #00d7ff\">None</span>, <span style=\"color: #00af00; text-decoration-color: #00af00\">64</span>)                  │             <span style=\"color: #00af00; text-decoration-color: #00af00\">256</span> │\n",
       "│ (<span style=\"color: #0087ff; text-decoration-color: #0087ff\">BatchNormalization</span>)                 │                             │                 │\n",
       "├──────────────────────────────────────┼─────────────────────────────┼─────────────────┤\n",
       "│ dropout_2 (<span style=\"color: #0087ff; text-decoration-color: #0087ff\">Dropout</span>)                  │ (<span style=\"color: #00d7ff; text-decoration-color: #00d7ff\">None</span>, <span style=\"color: #00af00; text-decoration-color: #00af00\">64</span>)                  │               <span style=\"color: #00af00; text-decoration-color: #00af00\">0</span> │\n",
       "├──────────────────────────────────────┼─────────────────────────────┼─────────────────┤\n",
       "│ dense (<span style=\"color: #0087ff; text-decoration-color: #0087ff\">Dense</span>)                        │ (<span style=\"color: #00d7ff; text-decoration-color: #00d7ff\">None</span>, <span style=\"color: #00af00; text-decoration-color: #00af00\">1</span>)                   │              <span style=\"color: #00af00; text-decoration-color: #00af00\">65</span> │\n",
       "└──────────────────────────────────────┴─────────────────────────────┴─────────────────┘\n",
       "</pre>\n"
      ],
      "text/plain": [
       "┏━━━━━━━━━━━━━━━━━━━━━━━━━━━━━━━━━━━━━━┳━━━━━━━━━━━━━━━━━━━━━━━━━━━━━┳━━━━━━━━━━━━━━━━━┓\n",
       "┃\u001b[1m \u001b[0m\u001b[1mLayer (type)                        \u001b[0m\u001b[1m \u001b[0m┃\u001b[1m \u001b[0m\u001b[1mOutput Shape               \u001b[0m\u001b[1m \u001b[0m┃\u001b[1m \u001b[0m\u001b[1m        Param #\u001b[0m\u001b[1m \u001b[0m┃\n",
       "┡━━━━━━━━━━━━━━━━━━━━━━━━━━━━━━━━━━━━━━╇━━━━━━━━━━━━━━━━━━━━━━━━━━━━━╇━━━━━━━━━━━━━━━━━┩\n",
       "│ lstm (\u001b[38;5;33mLSTM\u001b[0m)                          │ (\u001b[38;5;45mNone\u001b[0m, \u001b[38;5;34m6\u001b[0m, \u001b[38;5;34m64\u001b[0m)               │          \u001b[38;5;34m19,968\u001b[0m │\n",
       "├──────────────────────────────────────┼─────────────────────────────┼─────────────────┤\n",
       "│ batch_normalization                  │ (\u001b[38;5;45mNone\u001b[0m, \u001b[38;5;34m6\u001b[0m, \u001b[38;5;34m64\u001b[0m)               │             \u001b[38;5;34m256\u001b[0m │\n",
       "│ (\u001b[38;5;33mBatchNormalization\u001b[0m)                 │                             │                 │\n",
       "├──────────────────────────────────────┼─────────────────────────────┼─────────────────┤\n",
       "│ dropout (\u001b[38;5;33mDropout\u001b[0m)                    │ (\u001b[38;5;45mNone\u001b[0m, \u001b[38;5;34m6\u001b[0m, \u001b[38;5;34m64\u001b[0m)               │               \u001b[38;5;34m0\u001b[0m │\n",
       "├──────────────────────────────────────┼─────────────────────────────┼─────────────────┤\n",
       "│ lstm_1 (\u001b[38;5;33mLSTM\u001b[0m)                        │ (\u001b[38;5;45mNone\u001b[0m, \u001b[38;5;34m6\u001b[0m, \u001b[38;5;34m64\u001b[0m)               │          \u001b[38;5;34m33,024\u001b[0m │\n",
       "├──────────────────────────────────────┼─────────────────────────────┼─────────────────┤\n",
       "│ batch_normalization_1                │ (\u001b[38;5;45mNone\u001b[0m, \u001b[38;5;34m6\u001b[0m, \u001b[38;5;34m64\u001b[0m)               │             \u001b[38;5;34m256\u001b[0m │\n",
       "│ (\u001b[38;5;33mBatchNormalization\u001b[0m)                 │                             │                 │\n",
       "├──────────────────────────────────────┼─────────────────────────────┼─────────────────┤\n",
       "│ dropout_1 (\u001b[38;5;33mDropout\u001b[0m)                  │ (\u001b[38;5;45mNone\u001b[0m, \u001b[38;5;34m6\u001b[0m, \u001b[38;5;34m64\u001b[0m)               │               \u001b[38;5;34m0\u001b[0m │\n",
       "├──────────────────────────────────────┼─────────────────────────────┼─────────────────┤\n",
       "│ lstm_2 (\u001b[38;5;33mLSTM\u001b[0m)                        │ (\u001b[38;5;45mNone\u001b[0m, \u001b[38;5;34m64\u001b[0m)                  │          \u001b[38;5;34m33,024\u001b[0m │\n",
       "├──────────────────────────────────────┼─────────────────────────────┼─────────────────┤\n",
       "│ batch_normalization_2                │ (\u001b[38;5;45mNone\u001b[0m, \u001b[38;5;34m64\u001b[0m)                  │             \u001b[38;5;34m256\u001b[0m │\n",
       "│ (\u001b[38;5;33mBatchNormalization\u001b[0m)                 │                             │                 │\n",
       "├──────────────────────────────────────┼─────────────────────────────┼─────────────────┤\n",
       "│ dropout_2 (\u001b[38;5;33mDropout\u001b[0m)                  │ (\u001b[38;5;45mNone\u001b[0m, \u001b[38;5;34m64\u001b[0m)                  │               \u001b[38;5;34m0\u001b[0m │\n",
       "├──────────────────────────────────────┼─────────────────────────────┼─────────────────┤\n",
       "│ dense (\u001b[38;5;33mDense\u001b[0m)                        │ (\u001b[38;5;45mNone\u001b[0m, \u001b[38;5;34m1\u001b[0m)                   │              \u001b[38;5;34m65\u001b[0m │\n",
       "└──────────────────────────────────────┴─────────────────────────────┴─────────────────┘\n"
      ]
     },
     "metadata": {},
     "output_type": "display_data"
    },
    {
     "data": {
      "text/html": [
       "<pre style=\"white-space:pre;overflow-x:auto;line-height:normal;font-family:Menlo,'DejaVu Sans Mono',consolas,'Courier New',monospace\"><span style=\"font-weight: bold\"> Total params: </span><span style=\"color: #00af00; text-decoration-color: #00af00\">86,849</span> (339.25 KB)\n",
       "</pre>\n"
      ],
      "text/plain": [
       "\u001b[1m Total params: \u001b[0m\u001b[38;5;34m86,849\u001b[0m (339.25 KB)\n"
      ]
     },
     "metadata": {},
     "output_type": "display_data"
    },
    {
     "data": {
      "text/html": [
       "<pre style=\"white-space:pre;overflow-x:auto;line-height:normal;font-family:Menlo,'DejaVu Sans Mono',consolas,'Courier New',monospace\"><span style=\"font-weight: bold\"> Trainable params: </span><span style=\"color: #00af00; text-decoration-color: #00af00\">86,465</span> (337.75 KB)\n",
       "</pre>\n"
      ],
      "text/plain": [
       "\u001b[1m Trainable params: \u001b[0m\u001b[38;5;34m86,465\u001b[0m (337.75 KB)\n"
      ]
     },
     "metadata": {},
     "output_type": "display_data"
    },
    {
     "data": {
      "text/html": [
       "<pre style=\"white-space:pre;overflow-x:auto;line-height:normal;font-family:Menlo,'DejaVu Sans Mono',consolas,'Courier New',monospace\"><span style=\"font-weight: bold\"> Non-trainable params: </span><span style=\"color: #00af00; text-decoration-color: #00af00\">384</span> (1.50 KB)\n",
       "</pre>\n"
      ],
      "text/plain": [
       "\u001b[1m Non-trainable params: \u001b[0m\u001b[38;5;34m384\u001b[0m (1.50 KB)\n"
      ]
     },
     "metadata": {},
     "output_type": "display_data"
    }
   ],
   "source": [
    "n_steps, num_features = x.shape[1], x.shape[2]\n",
    "\n",
    "\n",
    "from tensorflow.keras.models import Sequential\n",
    "from tensorflow.keras.layers import LSTM, Dropout, Dense\n",
    "from tensorflow.keras.optimizers import Adam\n",
    "\n",
    "from tensorflow.keras.layers import LSTM, Dropout, Dense, BatchNormalization\n",
    "from tensorflow.keras.layers import Attention\n",
    "\n",
    "def build_model(n_steps, input_dim):\n",
    "    model = Sequential()\n",
    "    model.add(LSTM(lstm_layers, activation='relu', return_sequences=True, input_shape=(n_steps, input_dim)))\n",
    "    model.add(BatchNormalization())\n",
    "    model.add(Dropout(0.2))\n",
    "    \n",
    "    model.add(LSTM(lstm_layers, activation='relu', return_sequences=True))\n",
    "    model.add(BatchNormalization())\n",
    "    model.add(Dropout(0.2))\n",
    "    \n",
    "    model.add(LSTM(lstm_layers, activation='relu'))\n",
    "    model.add(BatchNormalization())\n",
    "    model.add(Dropout(0.2))\n",
    "    \n",
    "    model.add(Dense(1, activation='sigmoid'))\n",
    "    \n",
    "    optimizer = Adam(learning_rate=0.001)\n",
    "    model.compile(optimizer=optimizer, loss='mse', metrics=['mae'])\n",
    "    return model\n",
    "\n",
    "model = build_model(n_steps, num_features)\n",
    "model.summary()"
   ]
  },
  {
   "cell_type": "code",
   "execution_count": null,
   "id": "15968c42",
   "metadata": {
    "execution": {
     "iopub.execute_input": "2025-05-02T09:32:07.736535Z",
     "iopub.status.busy": "2025-05-02T09:32:07.736083Z",
     "iopub.status.idle": "2025-05-02T09:50:15.248546Z",
     "shell.execute_reply": "2025-05-02T09:50:15.247699Z"
    },
    "papermill": {
     "duration": 1087.53265,
     "end_time": "2025-05-02T09:50:15.249785",
     "exception": false,
     "start_time": "2025-05-02T09:32:07.717135",
     "status": "completed"
    },
    "tags": []
   },
   "outputs": [
    {
     "name": "stdout",
     "output_type": "stream",
     "text": [
      "Epoch 1/64\n"
     ]
    },
    {
     "name": "stderr",
     "output_type": "stream",
     "text": [
      "WARNING: All log messages before absl::InitializeLog() is called are written to STDERR\n",
      "I0000 00:00:1746178334.937753      71 service.cc:148] XLA service 0x343e3580 initialized for platform CUDA (this does not guarantee that XLA will be used). Devices:\n",
      "I0000 00:00:1746178334.938190      71 service.cc:156]   StreamExecutor device (0): Tesla P100-PCIE-16GB, Compute Capability 6.0\n",
      "I0000 00:00:1746178335.723137      71 cuda_dnn.cc:529] Loaded cuDNN version 90300\n"
     ]
    },
    {
     "name": "stdout",
     "output_type": "stream",
     "text": [
      "\u001b[1m   48/11695\u001b[0m \u001b[37m━━━━━━━━━━━━━━━━━━━━\u001b[0m \u001b[1m38s\u001b[0m 3ms/step - loss: 0.2568 - mae: 0.4463"
     ]
    },
    {
     "name": "stderr",
     "output_type": "stream",
     "text": [
      "I0000 00:00:1746178338.464015      71 device_compiler.h:188] Compiled cluster using XLA!  This line is logged at most once for the lifetime of the process.\n"
     ]
    },
    {
     "name": "stdout",
     "output_type": "stream",
     "text": [
      "\u001b[1m11695/11695\u001b[0m \u001b[32m━━━━━━━━━━━━━━━━━━━━\u001b[0m\u001b[37m\u001b[0m \u001b[1m57s\u001b[0m 4ms/step - loss: 0.0135 - mae: 0.0369 - val_loss: 7.1713e-04 - val_mae: 0.0050\n",
      "Epoch 2/64\n",
      "\u001b[1m11695/11695\u001b[0m \u001b[32m━━━━━━━━━━━━━━━━━━━━\u001b[0m\u001b[37m\u001b[0m \u001b[1m42s\u001b[0m 4ms/step - loss: 1.2390e-04 - mae: 0.0019 - val_loss: 0.0019 - val_mae: 0.0080\n",
      "Epoch 3/64\n",
      "\u001b[1m11695/11695\u001b[0m \u001b[32m━━━━━━━━━━━━━━━━━━━━\u001b[0m\u001b[37m\u001b[0m \u001b[1m42s\u001b[0m 4ms/step - loss: 1.1423e-04 - mae: 0.0020 - val_loss: 0.0023 - val_mae: 0.0075\n",
      "Epoch 4/64\n",
      "\u001b[1m11695/11695\u001b[0m \u001b[32m━━━━━━━━━━━━━━━━━━━━\u001b[0m\u001b[37m\u001b[0m \u001b[1m42s\u001b[0m 4ms/step - loss: 9.4936e-05 - mae: 0.0022 - val_loss: 5.1327e-04 - val_mae: 0.0043\n",
      "Epoch 5/64\n",
      "\u001b[1m11695/11695\u001b[0m \u001b[32m━━━━━━━━━━━━━━━━━━━━\u001b[0m\u001b[37m\u001b[0m \u001b[1m42s\u001b[0m 4ms/step - loss: 9.8282e-05 - mae: 0.0021 - val_loss: 4.9056e-04 - val_mae: 0.0041\n",
      "Epoch 6/64\n",
      "\u001b[1m11695/11695\u001b[0m \u001b[32m━━━━━━━━━━━━━━━━━━━━\u001b[0m\u001b[37m\u001b[0m \u001b[1m42s\u001b[0m 4ms/step - loss: 9.6377e-05 - mae: 0.0019 - val_loss: 4.5315e-04 - val_mae: 0.0039\n",
      "Epoch 7/64\n",
      "\u001b[1m11695/11695\u001b[0m \u001b[32m━━━━━━━━━━━━━━━━━━━━\u001b[0m\u001b[37m\u001b[0m \u001b[1m42s\u001b[0m 4ms/step - loss: 9.0113e-05 - mae: 0.0018 - val_loss: 4.6855e-04 - val_mae: 0.0040\n",
      "Epoch 8/64\n",
      "\u001b[1m11695/11695\u001b[0m \u001b[32m━━━━━━━━━━━━━━━━━━━━\u001b[0m\u001b[37m\u001b[0m \u001b[1m42s\u001b[0m 4ms/step - loss: 8.8705e-05 - mae: 0.0018 - val_loss: 4.4651e-04 - val_mae: 0.0038\n",
      "Epoch 9/64\n",
      "\u001b[1m11695/11695\u001b[0m \u001b[32m━━━━━━━━━━━━━━━━━━━━\u001b[0m\u001b[37m\u001b[0m \u001b[1m42s\u001b[0m 4ms/step - loss: 8.8563e-05 - mae: 0.0017 - val_loss: 5.6187e-04 - val_mae: 0.0038\n",
      "Epoch 10/64\n",
      "\u001b[1m11695/11695\u001b[0m \u001b[32m━━━━━━━━━━━━━━━━━━━━\u001b[0m\u001b[37m\u001b[0m \u001b[1m42s\u001b[0m 4ms/step - loss: 9.0968e-05 - mae: 0.0018 - val_loss: 3.8690e-04 - val_mae: 0.0037\n",
      "Epoch 11/64\n",
      "\u001b[1m11695/11695\u001b[0m \u001b[32m━━━━━━━━━━━━━━━━━━━━\u001b[0m\u001b[37m\u001b[0m \u001b[1m43s\u001b[0m 4ms/step - loss: 9.6212e-05 - mae: 0.0017 - val_loss: 4.2628e-04 - val_mae: 0.0038\n",
      "Epoch 12/64\n",
      "\u001b[1m11695/11695\u001b[0m \u001b[32m━━━━━━━━━━━━━━━━━━━━\u001b[0m\u001b[37m\u001b[0m \u001b[1m43s\u001b[0m 4ms/step - loss: 8.2753e-05 - mae: 0.0017 - val_loss: 5.2659e-04 - val_mae: 0.0041\n",
      "Epoch 13/64\n",
      "\u001b[1m11695/11695\u001b[0m \u001b[32m━━━━━━━━━━━━━━━━━━━━\u001b[0m\u001b[37m\u001b[0m \u001b[1m43s\u001b[0m 4ms/step - loss: 8.5057e-05 - mae: 0.0017 - val_loss: 4.0518e-04 - val_mae: 0.0042\n",
      "Epoch 14/64\n",
      "\u001b[1m11695/11695\u001b[0m \u001b[32m━━━━━━━━━━━━━━━━━━━━\u001b[0m\u001b[37m\u001b[0m \u001b[1m43s\u001b[0m 4ms/step - loss: 9.4281e-05 - mae: 0.0017 - val_loss: 3.9376e-04 - val_mae: 0.0040\n",
      "Epoch 15/64\n",
      "\u001b[1m11695/11695\u001b[0m \u001b[32m━━━━━━━━━━━━━━━━━━━━\u001b[0m\u001b[37m\u001b[0m \u001b[1m43s\u001b[0m 4ms/step - loss: 8.4492e-05 - mae: 0.0017 - val_loss: 4.1726e-04 - val_mae: 0.0037\n",
      "Epoch 16/64\n",
      "\u001b[1m11695/11695\u001b[0m \u001b[32m━━━━━━━━━━━━━━━━━━━━\u001b[0m\u001b[37m\u001b[0m \u001b[1m42s\u001b[0m 4ms/step - loss: 8.0808e-05 - mae: 0.0017 - val_loss: 5.5081e-04 - val_mae: 0.0039\n",
      "Epoch 17/64\n",
      "\u001b[1m11695/11695\u001b[0m \u001b[32m━━━━━━━━━━━━━━━━━━━━\u001b[0m\u001b[37m\u001b[0m \u001b[1m42s\u001b[0m 4ms/step - loss: 8.7159e-05 - mae: 0.0017 - val_loss: 4.4805e-04 - val_mae: 0.0037\n",
      "Epoch 18/64\n",
      "\u001b[1m11695/11695\u001b[0m \u001b[32m━━━━━━━━━━━━━━━━━━━━\u001b[0m\u001b[37m\u001b[0m \u001b[1m43s\u001b[0m 4ms/step - loss: 8.3184e-05 - mae: 0.0017 - val_loss: 5.6805e-04 - val_mae: 0.0045\n",
      "Epoch 19/64\n",
      "\u001b[1m11695/11695\u001b[0m \u001b[32m━━━━━━━━━━━━━━━━━━━━\u001b[0m\u001b[37m\u001b[0m \u001b[1m42s\u001b[0m 4ms/step - loss: 9.0017e-05 - mae: 0.0018 - val_loss: 9.9672e-04 - val_mae: 0.0043\n",
      "Epoch 20/64\n",
      "\u001b[1m11695/11695\u001b[0m \u001b[32m━━━━━━━━━━━━━━━━━━━━\u001b[0m\u001b[37m\u001b[0m \u001b[1m42s\u001b[0m 4ms/step - loss: 8.3314e-05 - mae: 0.0018 - val_loss: 4.6126e-04 - val_mae: 0.0040\n",
      "Epoch 21/64\n",
      "\u001b[1m11695/11695\u001b[0m \u001b[32m━━━━━━━━━━━━━━━━━━━━\u001b[0m\u001b[37m\u001b[0m \u001b[1m43s\u001b[0m 4ms/step - loss: 8.0690e-05 - mae: 0.0017 - val_loss: 5.7752e-04 - val_mae: 0.0052\n",
      "Epoch 22/64\n",
      "\u001b[1m11695/11695\u001b[0m \u001b[32m━━━━━━━━━━━━━━━━━━━━\u001b[0m\u001b[37m\u001b[0m \u001b[1m42s\u001b[0m 4ms/step - loss: 8.9955e-05 - mae: 0.0017 - val_loss: 4.6525e-04 - val_mae: 0.0038\n",
      "Epoch 23/64\n",
      "\u001b[1m11695/11695\u001b[0m \u001b[32m━━━━━━━━━━━━━━━━━━━━\u001b[0m\u001b[37m\u001b[0m \u001b[1m42s\u001b[0m 4ms/step - loss: 8.9083e-05 - mae: 0.0017 - val_loss: 4.2555e-04 - val_mae: 0.0047\n",
      "Epoch 24/64\n",
      "\u001b[1m11695/11695\u001b[0m \u001b[32m━━━━━━━━━━━━━━━━━━━━\u001b[0m\u001b[37m\u001b[0m \u001b[1m43s\u001b[0m 4ms/step - loss: 8.0583e-05 - mae: 0.0019 - val_loss: 3.9861e-04 - val_mae: 0.0037\n",
      "Epoch 25/64\n",
      "\u001b[1m11695/11695\u001b[0m \u001b[32m━━━━━━━━━━━━━━━━━━━━\u001b[0m\u001b[37m\u001b[0m \u001b[1m42s\u001b[0m 4ms/step - loss: 8.2230e-05 - mae: 0.0016 - val_loss: 4.0779e-04 - val_mae: 0.0041\n",
      "\u001b[1m5848/5848\u001b[0m \u001b[32m━━━━━━━━━━━━━━━━━━━━\u001b[0m\u001b[37m\u001b[0m \u001b[1m11s\u001b[0m 2ms/step - loss: 3.6819e-04 - mae: 0.0032\n",
      "Test MAE: 0.0037197908386588097\n"
     ]
    }
   ],
   "source": [
    "from tensorflow.keras.callbacks import EarlyStopping, ReduceLROnPlateau\n",
    "\n",
    "# Khai báo Early Stopping\n",
    "early_stopping = EarlyStopping(\n",
    "    monitor='val_loss',\n",
    "    patience=15,\n",
    "    restore_best_weights=True\n",
    ")\n",
    "\n",
    "# lr_scheduler = ReduceLROnPlateau(monitor='val_loss', factor=0.5, patience=4, min_lr=1e-6)\n",
    "history = model.fit(X_train, y_train, epochs=64, batch_size=batch_size, validation_data=(X_test, y_test), callbacks=[early_stopping])\n",
    "\n",
    "# Evaluate model\n",
    "test_loss, test_mae = model.evaluate(X_test, y_test)\n",
    "print(f\"Test MAE: {test_mae}\")"
   ]
  },
  {
   "cell_type": "code",
   "execution_count": null,
   "id": "856882e2",
   "metadata": {
    "execution": {
     "iopub.execute_input": "2025-05-02T09:50:16.940210Z",
     "iopub.status.busy": "2025-05-02T09:50:16.939312Z",
     "iopub.status.idle": "2025-05-02T09:50:30.919565Z",
     "shell.execute_reply": "2025-05-02T09:50:30.918592Z"
    },
    "papermill": {
     "duration": 14.827973,
     "end_time": "2025-05-02T09:50:30.920803",
     "exception": false,
     "start_time": "2025-05-02T09:50:16.092830",
     "status": "completed"
    },
    "tags": []
   },
   "outputs": [
    {
     "name": "stdout",
     "output_type": "stream",
     "text": [
      "\u001b[1m5848/5848\u001b[0m \u001b[32m━━━━━━━━━━━━━━━━━━━━\u001b[0m\u001b[37m\u001b[0m \u001b[1m11s\u001b[0m 2ms/step\n",
      "MAE:  0.003720\n",
      "MSE:  0.000387\n",
      "RMSE: 0.019670\n",
      "R²:   0.453020\n",
      "MAPE: 5421.614838%\n",
      "Pearson r: 0.677128\n"
     ]
    }
   ],
   "source": [
    "from sklearn.metrics import mean_squared_error, mean_absolute_error, r2_score, mean_absolute_percentage_error\n",
    "from scipy.stats import pearsonr\n",
    "import numpy as np\n",
    "\n",
    "y_pred = model.predict(X_test)\n",
    "# Flatten predictions and targets\n",
    "y_true_flat = y_test.flatten()\n",
    "y_pred_flat = y_pred.flatten()\n",
    "\n",
    "# Filter out zero targets if needed to avoid MAPE division issues\n",
    "non_zero_indices = y_true_flat != 0\n",
    "y_true_nz = y_true_flat[non_zero_indices]\n",
    "y_pred_nz = y_pred_flat[non_zero_indices]\n",
    "\n",
    "# Metrics\n",
    "mse = mean_squared_error(y_true_flat, y_pred_flat)\n",
    "mae = mean_absolute_error(y_true_flat, y_pred_flat)\n",
    "rmse = np.sqrt(mse)\n",
    "r2 = r2_score(y_true_flat, y_pred_flat)\n",
    "pearson_r, _ = pearsonr(y_true_flat, y_pred_flat)\n",
    "\n",
    "# Print\n",
    "print(f\"MAE:  {mae:.6f}\")\n",
    "print(f\"MSE:  {mse:.6f}\")\n",
    "print(f\"RMSE: {rmse:.6f}\")\n",
    "print(f\"R²:   {r2:.6f}\")\n",
    "print(f\"Pearson r: {pearson_r:.6f}\")\n"
   ]
  },
  {
   "cell_type": "code",
   "execution_count": 16,
   "id": "19596fbe",
   "metadata": {
    "execution": {
     "iopub.execute_input": "2025-05-02T09:50:34.346620Z",
     "iopub.status.busy": "2025-05-02T09:50:34.345875Z",
     "iopub.status.idle": "2025-05-02T09:50:34.414669Z",
     "shell.execute_reply": "2025-05-02T09:50:34.414009Z"
    },
    "papermill": {
     "duration": 0.987653,
     "end_time": "2025-05-02T09:50:34.416048",
     "exception": false,
     "start_time": "2025-05-02T09:50:33.428395",
     "status": "completed"
    },
    "tags": []
   },
   "outputs": [],
   "source": [
    "from tensorflow.keras.models import load_model\n",
    "# model = load_model(\"/kaggle/working/lstm.keras\")\n",
    "model.save(\"lstm.keras\")"
   ]
  },
  {
   "cell_type": "code",
   "execution_count": 17,
   "id": "98b753f9",
   "metadata": {
    "execution": {
     "iopub.execute_input": "2025-05-02T09:50:36.121876Z",
     "iopub.status.busy": "2025-05-02T09:50:36.121139Z",
     "iopub.status.idle": "2025-05-02T09:50:47.510378Z",
     "shell.execute_reply": "2025-05-02T09:50:47.509670Z"
    },
    "papermill": {
     "duration": 12.234537,
     "end_time": "2025-05-02T09:50:47.512059",
     "exception": false,
     "start_time": "2025-05-02T09:50:35.277522",
     "status": "completed"
    },
    "tags": []
   },
   "outputs": [
    {
     "name": "stdout",
     "output_type": "stream",
     "text": [
      "\u001b[1m5848/5848\u001b[0m \u001b[32m━━━━━━━━━━━━━━━━━━━━\u001b[0m\u001b[37m\u001b[0m \u001b[1m9s\u001b[0m 1ms/step\n"
     ]
    },
    {
     "data": {
      "image/png": "[encoded data removed]",
      "text/plain": [
       "<Figure size 1000x500 with 1 Axes>"
      ]
     },
     "metadata": {},
     "output_type": "display_data"
    }
   ],
   "source": [
    "import matplotlib.pyplot as plt\n",
    "\n",
    "y_pred = model.predict(X_test)\n",
    "\n",
    "plt.figure(figsize=(10, 5))\n",
    "plt.plot(y_test, label=\"Actual\")\n",
    "plt.plot(y_pred, label=\"Predicted\", linestyle=\"dashed\")\n",
    "plt.legend()\n",
    "plt.show()\n"
   ]
  }
 ],
 "metadata": {
  "kaggle": {
   "accelerator": "gpu",
   "dataSources": [
    {
     "datasetId": 6891645,
     "sourceId": 11060838,
     "sourceType": "datasetVersion"
    }
   ],
   "dockerImageVersionId": 31011,
   "isGpuEnabled": true,
   "isInternetEnabled": true,
   "language": "python",
   "sourceType": "notebook"
  },
  "kernelspec": {
   "display_name": "Python 3",
   "language": "python",
   "name": "python3"
  },
  "language_info": {
   "codemirror_mode": {
    "name": "ipython",
    "version": 3
   },
   "file_extension": ".py",
   "mimetype": "text/x-python",
   "name": "python",
   "nbconvert_exporter": "python",
   "pygments_lexer": "ipython3",
   "version": "3.11.11"
  },
  "papermill": {
   "default_parameters": {},
   "duration": 1249.206644,
   "end_time": "2025-05-02T09:51:15.252902",
   "environment_variables": {},
   "exception": null,
   "input_path": "__notebook__.ipynb",
   "output_path": "__notebook__.ipynb",
   "parameters": {},
   "start_time": "2025-05-02T09:30:26.046258",
   "version": "2.6.0"
  }
 },
 "nbformat": 4,
 "nbformat_minor": 5
}
